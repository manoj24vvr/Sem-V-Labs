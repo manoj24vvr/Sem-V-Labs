{
  "nbformat": 4,
  "nbformat_minor": 0,
  "metadata": {
    "colab": {
      "provenance": [],
      "collapsed_sections": []
    },
    "kernelspec": {
      "name": "python3",
      "display_name": "Python 3"
    },
    "language_info": {
      "name": "python"
    }
  },
  "cells": [
    {
      "cell_type": "markdown",
      "source": [
        "**Importing required libraries**"
      ],
      "metadata": {
        "id": "tqaClymF9INL"
      }
    },
    {
      "cell_type": "code",
      "execution_count": 1,
      "metadata": {
        "id": "dd5LbZg89ATU"
      },
      "outputs": [],
      "source": [
        "import numpy as np\n",
        "import pandas as pd\n",
        "import matplotlib.pyplot as plt\n",
        "import tensorflow as tf\n",
        "from sklearn.datasets import fetch_california_housing\n",
        "from sklearn.model_selection import train_test_split\n",
        "from sklearn.preprocessing import StandardScaler\n",
        "import seaborn as sns"
      ]
    },
    {
      "cell_type": "markdown",
      "source": [
        "**Fecthing the California Housing Dataset**"
      ],
      "metadata": {
        "id": "f35sHBg2_Ar6"
      }
    },
    {
      "cell_type": "code",
      "source": [
        "# as_frame is False by default. So, by setting it to True, the dataset is fetched in the form of a pandas dataframe\n",
        "housing = fetch_california_housing(as_frame=True).frame\n",
        "housing"
      ],
      "metadata": {
        "colab": {
          "base_uri": "https://localhost:8080/",
          "height": 424
        },
        "id": "fFldzFhKAKUO",
        "outputId": "fc24b6d5-3269-4927-abe4-0f79e78a3414"
      },
      "execution_count": 2,
      "outputs": [
        {
          "output_type": "execute_result",
          "data": {
            "text/plain": [
              "       MedInc  HouseAge  AveRooms  AveBedrms  Population  AveOccup  Latitude  \\\n",
              "0      8.3252      41.0  6.984127   1.023810       322.0  2.555556     37.88   \n",
              "1      8.3014      21.0  6.238137   0.971880      2401.0  2.109842     37.86   \n",
              "2      7.2574      52.0  8.288136   1.073446       496.0  2.802260     37.85   \n",
              "3      5.6431      52.0  5.817352   1.073059       558.0  2.547945     37.85   \n",
              "4      3.8462      52.0  6.281853   1.081081       565.0  2.181467     37.85   \n",
              "...       ...       ...       ...        ...         ...       ...       ...   \n",
              "20635  1.5603      25.0  5.045455   1.133333       845.0  2.560606     39.48   \n",
              "20636  2.5568      18.0  6.114035   1.315789       356.0  3.122807     39.49   \n",
              "20637  1.7000      17.0  5.205543   1.120092      1007.0  2.325635     39.43   \n",
              "20638  1.8672      18.0  5.329513   1.171920       741.0  2.123209     39.43   \n",
              "20639  2.3886      16.0  5.254717   1.162264      1387.0  2.616981     39.37   \n",
              "\n",
              "       Longitude  MedHouseVal  \n",
              "0        -122.23        4.526  \n",
              "1        -122.22        3.585  \n",
              "2        -122.24        3.521  \n",
              "3        -122.25        3.413  \n",
              "4        -122.25        3.422  \n",
              "...          ...          ...  \n",
              "20635    -121.09        0.781  \n",
              "20636    -121.21        0.771  \n",
              "20637    -121.22        0.923  \n",
              "20638    -121.32        0.847  \n",
              "20639    -121.24        0.894  \n",
              "\n",
              "[20640 rows x 9 columns]"
            ],
            "text/html": [
              "\n",
              "  <div id=\"df-f2939077-64ba-4e70-9a07-009504d711c2\">\n",
              "    <div class=\"colab-df-container\">\n",
              "      <div>\n",
              "<style scoped>\n",
              "    .dataframe tbody tr th:only-of-type {\n",
              "        vertical-align: middle;\n",
              "    }\n",
              "\n",
              "    .dataframe tbody tr th {\n",
              "        vertical-align: top;\n",
              "    }\n",
              "\n",
              "    .dataframe thead th {\n",
              "        text-align: right;\n",
              "    }\n",
              "</style>\n",
              "<table border=\"1\" class=\"dataframe\">\n",
              "  <thead>\n",
              "    <tr style=\"text-align: right;\">\n",
              "      <th></th>\n",
              "      <th>MedInc</th>\n",
              "      <th>HouseAge</th>\n",
              "      <th>AveRooms</th>\n",
              "      <th>AveBedrms</th>\n",
              "      <th>Population</th>\n",
              "      <th>AveOccup</th>\n",
              "      <th>Latitude</th>\n",
              "      <th>Longitude</th>\n",
              "      <th>MedHouseVal</th>\n",
              "    </tr>\n",
              "  </thead>\n",
              "  <tbody>\n",
              "    <tr>\n",
              "      <th>0</th>\n",
              "      <td>8.3252</td>\n",
              "      <td>41.0</td>\n",
              "      <td>6.984127</td>\n",
              "      <td>1.023810</td>\n",
              "      <td>322.0</td>\n",
              "      <td>2.555556</td>\n",
              "      <td>37.88</td>\n",
              "      <td>-122.23</td>\n",
              "      <td>4.526</td>\n",
              "    </tr>\n",
              "    <tr>\n",
              "      <th>1</th>\n",
              "      <td>8.3014</td>\n",
              "      <td>21.0</td>\n",
              "      <td>6.238137</td>\n",
              "      <td>0.971880</td>\n",
              "      <td>2401.0</td>\n",
              "      <td>2.109842</td>\n",
              "      <td>37.86</td>\n",
              "      <td>-122.22</td>\n",
              "      <td>3.585</td>\n",
              "    </tr>\n",
              "    <tr>\n",
              "      <th>2</th>\n",
              "      <td>7.2574</td>\n",
              "      <td>52.0</td>\n",
              "      <td>8.288136</td>\n",
              "      <td>1.073446</td>\n",
              "      <td>496.0</td>\n",
              "      <td>2.802260</td>\n",
              "      <td>37.85</td>\n",
              "      <td>-122.24</td>\n",
              "      <td>3.521</td>\n",
              "    </tr>\n",
              "    <tr>\n",
              "      <th>3</th>\n",
              "      <td>5.6431</td>\n",
              "      <td>52.0</td>\n",
              "      <td>5.817352</td>\n",
              "      <td>1.073059</td>\n",
              "      <td>558.0</td>\n",
              "      <td>2.547945</td>\n",
              "      <td>37.85</td>\n",
              "      <td>-122.25</td>\n",
              "      <td>3.413</td>\n",
              "    </tr>\n",
              "    <tr>\n",
              "      <th>4</th>\n",
              "      <td>3.8462</td>\n",
              "      <td>52.0</td>\n",
              "      <td>6.281853</td>\n",
              "      <td>1.081081</td>\n",
              "      <td>565.0</td>\n",
              "      <td>2.181467</td>\n",
              "      <td>37.85</td>\n",
              "      <td>-122.25</td>\n",
              "      <td>3.422</td>\n",
              "    </tr>\n",
              "    <tr>\n",
              "      <th>...</th>\n",
              "      <td>...</td>\n",
              "      <td>...</td>\n",
              "      <td>...</td>\n",
              "      <td>...</td>\n",
              "      <td>...</td>\n",
              "      <td>...</td>\n",
              "      <td>...</td>\n",
              "      <td>...</td>\n",
              "      <td>...</td>\n",
              "    </tr>\n",
              "    <tr>\n",
              "      <th>20635</th>\n",
              "      <td>1.5603</td>\n",
              "      <td>25.0</td>\n",
              "      <td>5.045455</td>\n",
              "      <td>1.133333</td>\n",
              "      <td>845.0</td>\n",
              "      <td>2.560606</td>\n",
              "      <td>39.48</td>\n",
              "      <td>-121.09</td>\n",
              "      <td>0.781</td>\n",
              "    </tr>\n",
              "    <tr>\n",
              "      <th>20636</th>\n",
              "      <td>2.5568</td>\n",
              "      <td>18.0</td>\n",
              "      <td>6.114035</td>\n",
              "      <td>1.315789</td>\n",
              "      <td>356.0</td>\n",
              "      <td>3.122807</td>\n",
              "      <td>39.49</td>\n",
              "      <td>-121.21</td>\n",
              "      <td>0.771</td>\n",
              "    </tr>\n",
              "    <tr>\n",
              "      <th>20637</th>\n",
              "      <td>1.7000</td>\n",
              "      <td>17.0</td>\n",
              "      <td>5.205543</td>\n",
              "      <td>1.120092</td>\n",
              "      <td>1007.0</td>\n",
              "      <td>2.325635</td>\n",
              "      <td>39.43</td>\n",
              "      <td>-121.22</td>\n",
              "      <td>0.923</td>\n",
              "    </tr>\n",
              "    <tr>\n",
              "      <th>20638</th>\n",
              "      <td>1.8672</td>\n",
              "      <td>18.0</td>\n",
              "      <td>5.329513</td>\n",
              "      <td>1.171920</td>\n",
              "      <td>741.0</td>\n",
              "      <td>2.123209</td>\n",
              "      <td>39.43</td>\n",
              "      <td>-121.32</td>\n",
              "      <td>0.847</td>\n",
              "    </tr>\n",
              "    <tr>\n",
              "      <th>20639</th>\n",
              "      <td>2.3886</td>\n",
              "      <td>16.0</td>\n",
              "      <td>5.254717</td>\n",
              "      <td>1.162264</td>\n",
              "      <td>1387.0</td>\n",
              "      <td>2.616981</td>\n",
              "      <td>39.37</td>\n",
              "      <td>-121.24</td>\n",
              "      <td>0.894</td>\n",
              "    </tr>\n",
              "  </tbody>\n",
              "</table>\n",
              "<p>20640 rows × 9 columns</p>\n",
              "</div>\n",
              "      <button class=\"colab-df-convert\" onclick=\"convertToInteractive('df-f2939077-64ba-4e70-9a07-009504d711c2')\"\n",
              "              title=\"Convert this dataframe to an interactive table.\"\n",
              "              style=\"display:none;\">\n",
              "        \n",
              "  <svg xmlns=\"http://www.w3.org/2000/svg\" height=\"24px\"viewBox=\"0 0 24 24\"\n",
              "       width=\"24px\">\n",
              "    <path d=\"M0 0h24v24H0V0z\" fill=\"none\"/>\n",
              "    <path d=\"M18.56 5.44l.94 2.06.94-2.06 2.06-.94-2.06-.94-.94-2.06-.94 2.06-2.06.94zm-11 1L8.5 8.5l.94-2.06 2.06-.94-2.06-.94L8.5 2.5l-.94 2.06-2.06.94zm10 10l.94 2.06.94-2.06 2.06-.94-2.06-.94-.94-2.06-.94 2.06-2.06.94z\"/><path d=\"M17.41 7.96l-1.37-1.37c-.4-.4-.92-.59-1.43-.59-.52 0-1.04.2-1.43.59L10.3 9.45l-7.72 7.72c-.78.78-.78 2.05 0 2.83L4 21.41c.39.39.9.59 1.41.59.51 0 1.02-.2 1.41-.59l7.78-7.78 2.81-2.81c.8-.78.8-2.07 0-2.86zM5.41 20L4 18.59l7.72-7.72 1.47 1.35L5.41 20z\"/>\n",
              "  </svg>\n",
              "      </button>\n",
              "      \n",
              "  <style>\n",
              "    .colab-df-container {\n",
              "      display:flex;\n",
              "      flex-wrap:wrap;\n",
              "      gap: 12px;\n",
              "    }\n",
              "\n",
              "    .colab-df-convert {\n",
              "      background-color: #E8F0FE;\n",
              "      border: none;\n",
              "      border-radius: 50%;\n",
              "      cursor: pointer;\n",
              "      display: none;\n",
              "      fill: #1967D2;\n",
              "      height: 32px;\n",
              "      padding: 0 0 0 0;\n",
              "      width: 32px;\n",
              "    }\n",
              "\n",
              "    .colab-df-convert:hover {\n",
              "      background-color: #E2EBFA;\n",
              "      box-shadow: 0px 1px 2px rgba(60, 64, 67, 0.3), 0px 1px 3px 1px rgba(60, 64, 67, 0.15);\n",
              "      fill: #174EA6;\n",
              "    }\n",
              "\n",
              "    [theme=dark] .colab-df-convert {\n",
              "      background-color: #3B4455;\n",
              "      fill: #D2E3FC;\n",
              "    }\n",
              "\n",
              "    [theme=dark] .colab-df-convert:hover {\n",
              "      background-color: #434B5C;\n",
              "      box-shadow: 0px 1px 3px 1px rgba(0, 0, 0, 0.15);\n",
              "      filter: drop-shadow(0px 1px 2px rgba(0, 0, 0, 0.3));\n",
              "      fill: #FFFFFF;\n",
              "    }\n",
              "  </style>\n",
              "\n",
              "      <script>\n",
              "        const buttonEl =\n",
              "          document.querySelector('#df-f2939077-64ba-4e70-9a07-009504d711c2 button.colab-df-convert');\n",
              "        buttonEl.style.display =\n",
              "          google.colab.kernel.accessAllowed ? 'block' : 'none';\n",
              "\n",
              "        async function convertToInteractive(key) {\n",
              "          const element = document.querySelector('#df-f2939077-64ba-4e70-9a07-009504d711c2');\n",
              "          const dataTable =\n",
              "            await google.colab.kernel.invokeFunction('convertToInteractive',\n",
              "                                                     [key], {});\n",
              "          if (!dataTable) return;\n",
              "\n",
              "          const docLinkHtml = 'Like what you see? Visit the ' +\n",
              "            '<a target=\"_blank\" href=https://colab.research.google.com/notebooks/data_table.ipynb>data table notebook</a>'\n",
              "            + ' to learn more about interactive tables.';\n",
              "          element.innerHTML = '';\n",
              "          dataTable['output_type'] = 'display_data';\n",
              "          await google.colab.output.renderOutput(dataTable, element);\n",
              "          const docLink = document.createElement('div');\n",
              "          docLink.innerHTML = docLinkHtml;\n",
              "          element.appendChild(docLink);\n",
              "        }\n",
              "      </script>\n",
              "    </div>\n",
              "  </div>\n",
              "  "
            ]
          },
          "metadata": {},
          "execution_count": 2
        }
      ]
    },
    {
      "cell_type": "code",
      "source": [
        "housing.info()"
      ],
      "metadata": {
        "colab": {
          "base_uri": "https://localhost:8080/"
        },
        "id": "vWL8yw4Vkbam",
        "outputId": "23ad336d-7634-428b-a1dc-023c77d5e107"
      },
      "execution_count": 23,
      "outputs": [
        {
          "output_type": "stream",
          "name": "stdout",
          "text": [
            "<class 'pandas.core.frame.DataFrame'>\n",
            "RangeIndex: 20640 entries, 0 to 20639\n",
            "Data columns (total 9 columns):\n",
            " #   Column       Non-Null Count  Dtype  \n",
            "---  ------       --------------  -----  \n",
            " 0   MedInc       20640 non-null  float64\n",
            " 1   HouseAge     20640 non-null  float64\n",
            " 2   AveRooms     20640 non-null  float64\n",
            " 3   AveBedrms    20640 non-null  float64\n",
            " 4   Population   20640 non-null  float64\n",
            " 5   AveOccup     20640 non-null  float64\n",
            " 6   Latitude     20640 non-null  float64\n",
            " 7   Longitude    20640 non-null  float64\n",
            " 8   MedHouseVal  20640 non-null  float64\n",
            "dtypes: float64(9)\n",
            "memory usage: 1.4 MB\n"
          ]
        }
      ]
    },
    {
      "cell_type": "code",
      "source": [
        "# plotting he distribution of features\n",
        "housing.hist(figsize = (15,12))\n",
        "plt.show()"
      ],
      "metadata": {
        "colab": {
          "base_uri": "https://localhost:8080/",
          "height": 716
        },
        "id": "qUz6_hPukbc1",
        "outputId": "3f87eb32-57eb-45fb-dba6-7a526443432c"
      },
      "execution_count": 29,
      "outputs": [
        {
          "output_type": "display_data",
          "data": {
            "text/plain": [
              "<Figure size 1080x864 with 9 Axes>"
            ],
            "image/png": "[encoded data removed]"
          },
          "metadata": {}
        }
      ]
    },
    {
      "cell_type": "markdown",
      "source": [
        "**Splitting the dataset**"
      ],
      "metadata": {
        "id": "Dv1TcMJgETuE"
      }
    },
    {
      "cell_type": "code",
      "source": [
        "# 'MedHouseVal' is the target variable to find Median House Value\n",
        "X = housing.drop(columns=['MedHouseVal'],axis=1)\n",
        "y = housing.MedHouseVal"
      ],
      "metadata": {
        "id": "-BqyORX8K1Uo"
      },
      "execution_count": 3,
      "outputs": []
    },
    {
      "cell_type": "code",
      "source": [
        "#Splitting the data into train, vaidation and test sets\n",
        "X_train_full, X_test, y_train_full, y_test = train_test_split(X, y, test_size=0.25, random_state=42)\n",
        "X_train, X_valid, y_train, y_valid = train_test_split(X_train_full, y_train_full, test_size=0.25, random_state=42)"
      ],
      "metadata": {
        "id": "xXNpTgWpDY3M"
      },
      "execution_count": 4,
      "outputs": []
    },
    {
      "cell_type": "markdown",
      "source": [
        "**Applying standardization using StandardScaler()**"
      ],
      "metadata": {
        "id": "snhz9SfSGCLs"
      }
    },
    {
      "cell_type": "code",
      "source": [
        "# StandardScaler function imported from preprocessing module of sklearn\n",
        "scaler = StandardScaler()\n",
        "X_train = scaler.fit_transform(X_train)\n",
        "X_valid = scaler.fit_transform(X_valid)\n",
        "X_test = scaler.fit_transform(X_test)"
      ],
      "metadata": {
        "id": "mevZTD7uG2kp"
      },
      "execution_count": 5,
      "outputs": []
    },
    {
      "cell_type": "code",
      "source": [
        "X_train = pd.DataFrame(X_train)\n",
        "X_train.shape"
      ],
      "metadata": {
        "colab": {
          "base_uri": "https://localhost:8080/"
        },
        "id": "AvF0n2GGLpKY",
        "outputId": "746accf6-9256-4b54-b74f-030a40495117"
      },
      "execution_count": 6,
      "outputs": [
        {
          "output_type": "execute_result",
          "data": {
            "text/plain": [
              "(11610, 8)"
            ]
          },
          "metadata": {},
          "execution_count": 6
        }
      ]
    },
    {
      "cell_type": "code",
      "source": [
        "X_test = pd.DataFrame(X_test)\n",
        "X_test.shape"
      ],
      "metadata": {
        "colab": {
          "base_uri": "https://localhost:8080/"
        },
        "id": "5IU008P7LpMq",
        "outputId": "a9517830-9fc8-47e2-bed8-d8b6b0d7f917"
      },
      "execution_count": 7,
      "outputs": [
        {
          "output_type": "execute_result",
          "data": {
            "text/plain": [
              "(5160, 8)"
            ]
          },
          "metadata": {},
          "execution_count": 7
        }
      ]
    },
    {
      "cell_type": "code",
      "source": [
        "X_valid = pd.DataFrame(X_valid)\n",
        "X_valid.shape"
      ],
      "metadata": {
        "colab": {
          "base_uri": "https://localhost:8080/"
        },
        "id": "0rdB-jkFLpPG",
        "outputId": "44e7937a-af8b-48b3-cce3-251346936888"
      },
      "execution_count": 8,
      "outputs": [
        {
          "output_type": "execute_result",
          "data": {
            "text/plain": [
              "(3870, 8)"
            ]
          },
          "metadata": {},
          "execution_count": 8
        }
      ]
    },
    {
      "cell_type": "markdown",
      "source": [
        "### **Building a regression MLP model using the Sequential API with 1 hidden layer and 30 units**"
      ],
      "metadata": {
        "id": "OVqWixQIFXek"
      }
    },
    {
      "cell_type": "code",
      "source": [
        "model1 = tf.keras.Sequential([\n",
        "    tf.keras.layers.Dense(30, activation='relu', input_shape=X_train.shape[1:], name= 'hiddenlayer'),\n",
        "    tf.keras.layers.Dense(1, activation=\"linear\", name='outputlayer')\n",
        "])\n",
        "model1.compile(loss='mse', optimizer='adam')\n",
        "model1.summary()"
      ],
      "metadata": {
        "colab": {
          "base_uri": "https://localhost:8080/"
        },
        "id": "_2crU9SXFVCT",
        "outputId": "7359ddec-cb43-4e8c-8138-f83fa2b4f4fe"
      },
      "execution_count": 9,
      "outputs": [
        {
          "output_type": "stream",
          "name": "stdout",
          "text": [
            "Model: \"sequential\"\n",
            "_________________________________________________________________\n",
            " Layer (type)                Output Shape              Param #   \n",
            "=================================================================\n",
            " hiddenlayer (Dense)         (None, 30)                270       \n",
            "                                                                 \n",
            " outputlayer (Dense)         (None, 1)                 31        \n",
            "                                                                 \n",
            "=================================================================\n",
            "Total params: 301\n",
            "Trainable params: 301\n",
            "Non-trainable params: 0\n",
            "_________________________________________________________________\n"
          ]
        }
      ]
    },
    {
      "cell_type": "code",
      "source": [
        "history1 = model1.fit(X_train, y_train, epochs=20, validation_data=(X_valid, y_valid))"
      ],
      "metadata": {
        "colab": {
          "base_uri": "https://localhost:8080/"
        },
        "id": "yLkAb4V2H9dx",
        "outputId": "19df2162-10b4-4fc8-b80e-82e0d97ed04a"
      },
      "execution_count": 10,
      "outputs": [
        {
          "output_type": "stream",
          "name": "stdout",
          "text": [
            "Epoch 1/20\n",
            "363/363 [==============================] - 1s 2ms/step - loss: 2.4302 - val_loss: 0.7527\n",
            "Epoch 2/20\n",
            "363/363 [==============================] - 1s 2ms/step - loss: 0.6114 - val_loss: 0.5573\n",
            "Epoch 3/20\n",
            "363/363 [==============================] - 1s 2ms/step - loss: 0.4821 - val_loss: 0.4853\n",
            "Epoch 4/20\n",
            "363/363 [==============================] - 1s 2ms/step - loss: 0.4318 - val_loss: 0.4595\n",
            "Epoch 5/20\n",
            "363/363 [==============================] - 1s 2ms/step - loss: 0.4094 - val_loss: 0.4463\n",
            "Epoch 6/20\n",
            "363/363 [==============================] - 1s 2ms/step - loss: 0.3985 - val_loss: 0.4419\n",
            "Epoch 7/20\n",
            "363/363 [==============================] - 1s 3ms/step - loss: 0.3893 - val_loss: 0.4441\n",
            "Epoch 8/20\n",
            "363/363 [==============================] - 1s 3ms/step - loss: 0.3834 - val_loss: 0.4295\n",
            "Epoch 9/20\n",
            "363/363 [==============================] - 1s 3ms/step - loss: 0.3743 - val_loss: 0.4356\n",
            "Epoch 10/20\n",
            "363/363 [==============================] - 2s 5ms/step - loss: 0.3693 - val_loss: 0.4277\n",
            "Epoch 11/20\n",
            "363/363 [==============================] - 2s 5ms/step - loss: 0.3647 - val_loss: 0.4373\n",
            "Epoch 12/20\n",
            "363/363 [==============================] - 2s 5ms/step - loss: 0.3616 - val_loss: 0.4248\n",
            "Epoch 13/20\n",
            "363/363 [==============================] - 2s 4ms/step - loss: 0.3564 - val_loss: 0.4161\n",
            "Epoch 14/20\n",
            "363/363 [==============================] - 2s 5ms/step - loss: 0.3519 - val_loss: 0.4305\n",
            "Epoch 15/20\n",
            "363/363 [==============================] - 2s 4ms/step - loss: 0.3494 - val_loss: 0.4222\n",
            "Epoch 16/20\n",
            "363/363 [==============================] - 2s 5ms/step - loss: 0.3463 - val_loss: 0.4132\n",
            "Epoch 17/20\n",
            "363/363 [==============================] - 2s 6ms/step - loss: 0.3432 - val_loss: 0.4073\n",
            "Epoch 18/20\n",
            "363/363 [==============================] - 2s 6ms/step - loss: 0.3401 - val_loss: 0.4098\n",
            "Epoch 19/20\n",
            "363/363 [==============================] - 2s 6ms/step - loss: 0.3380 - val_loss: 0.4096\n",
            "Epoch 20/20\n",
            "363/363 [==============================] - 2s 6ms/step - loss: 0.3353 - val_loss: 0.4109\n"
          ]
        }
      ]
    },
    {
      "cell_type": "code",
      "source": [
        "# \"Loss\"\n",
        "plt.plot(history1.history['loss'])\n",
        "plt.plot(history1.history['val_loss'])\n",
        "plt.title('Mean Squared Error')\n",
        "plt.ylabel('loss')\n",
        "plt.xlabel('epoch')\n",
        "plt.legend(['train', 'validation'], loc='upper left')\n",
        "plt.show()"
      ],
      "metadata": {
        "colab": {
          "base_uri": "https://localhost:8080/",
          "height": 295
        },
        "id": "bfnIc4vvNt4h",
        "outputId": "36eb9c4e-02a9-4e1e-ff8c-15a79c4ea270"
      },
      "execution_count": 19,
      "outputs": [
        {
          "output_type": "display_data",
          "data": {
            "text/plain": [
              "<Figure size 432x288 with 1 Axes>"
            ],
            "image/png": "[encoded data removed]"
          },
          "metadata": {}
        }
      ]
    },
    {
      "cell_type": "code",
      "source": [
        "model1.evaluate(X_test,y_test)"
      ],
      "metadata": {
        "colab": {
          "base_uri": "https://localhost:8080/"
        },
        "id": "ybsWfnI5SDS0",
        "outputId": "d61ae48d-e2d9-46f0-88cc-8cd3792b6e41"
      },
      "execution_count": 12,
      "outputs": [
        {
          "output_type": "stream",
          "name": "stdout",
          "text": [
            "162/162 [==============================] - 1s 4ms/step - loss: 0.3634\n"
          ]
        },
        {
          "output_type": "execute_result",
          "data": {
            "text/plain": [
              "0.36335912346839905"
            ]
          },
          "metadata": {},
          "execution_count": 12
        }
      ]
    },
    {
      "cell_type": "markdown",
      "source": [
        "The above neural network has an accuracy of around 65%"
      ],
      "metadata": {
        "id": "0YVM-yHehrj0"
      }
    },
    {
      "cell_type": "markdown",
      "source": [
        "### **Using the functional API to build the following Wide & Deep Neural Network with the following architecture.**\n",
        "![image.png](data:image/png;base64,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)\n",
        "\n",
        "With 30 units in the hidden layers, features 0 to 4 in the wide\n",
        "path and features 2 to 7 into the deep path."
      ],
      "metadata": {
        "id": "kFo7Z865UVZg"
      }
    },
    {
      "cell_type": "code",
      "source": [
        "input_a = tf.keras.layers.Input(shape = [5], name = 'wide_input')   # features from 0 to 4\n",
        "input_b = tf.keras.layers.Input(shape = [6], name = 'deep_input')   # features from 2 to 7\n",
        "hidden1 = tf.keras.layers.Dense(30, activation = 'relu')(input_b)\n",
        "hidden2 = tf.keras.layers.Dense(30, activation = 'relu')(hidden1)\n",
        "concat = tf.keras.layers.concatenate([input_a, hidden2])\n",
        "output = tf.keras.layers.Dense(1, name = 'output')(concat)"
      ],
      "metadata": {
        "id": "N5xEpTwdT78M"
      },
      "execution_count": 13,
      "outputs": []
    },
    {
      "cell_type": "code",
      "source": [
        "model2 = tf.keras.Model(inputs=[input_a, input_b], outputs=output, name=\"mnist_model\")\n",
        "model2.compile(loss='mse', optimizer='adam')\n",
        "model2.summary()"
      ],
      "metadata": {
        "colab": {
          "base_uri": "https://localhost:8080/"
        },
        "id": "i58cD5kHYl_j",
        "outputId": "68be0bdc-1198-4533-fca0-a77e476b1669"
      },
      "execution_count": 14,
      "outputs": [
        {
          "output_type": "stream",
          "name": "stdout",
          "text": [
            "Model: \"mnist_model\"\n",
            "__________________________________________________________________________________________________\n",
            " Layer (type)                   Output Shape         Param #     Connected to                     \n",
            "==================================================================================================\n",
            " deep_input (InputLayer)        [(None, 6)]          0           []                               \n",
            "                                                                                                  \n",
            " dense (Dense)                  (None, 30)           210         ['deep_input[0][0]']             \n",
            "                                                                                                  \n",
            " wide_input (InputLayer)        [(None, 5)]          0           []                               \n",
            "                                                                                                  \n",
            " dense_1 (Dense)                (None, 30)           930         ['dense[0][0]']                  \n",
            "                                                                                                  \n",
            " concatenate (Concatenate)      (None, 35)           0           ['wide_input[0][0]',             \n",
            "                                                                  'dense_1[0][0]']                \n",
            "                                                                                                  \n",
            " output (Dense)                 (None, 1)            36          ['concatenate[0][0]']            \n",
            "                                                                                                  \n",
            "==================================================================================================\n",
            "Total params: 1,176\n",
            "Trainable params: 1,176\n",
            "Non-trainable params: 0\n",
            "__________________________________________________________________________________________________\n"
          ]
        }
      ]
    },
    {
      "cell_type": "code",
      "source": [
        "# X_train,X_test, X_valid all columns are indexing from 0 to 7\n",
        "x_train_a, x_train_b = X_train.iloc[:, :5], X_train.iloc[:, 2:]\n",
        "x_validation_a, x_validation_b = X_valid.iloc[:, :5], X_valid.iloc[:, 2:]\n",
        "x_test_a, x_test_b = X_test.iloc[:, :5], X_test.iloc[:, 2:]"
      ],
      "metadata": {
        "id": "mOGSTdYjZYQT"
      },
      "execution_count": 15,
      "outputs": []
    },
    {
      "cell_type": "code",
      "source": [
        "history2 = model2.fit((x_train_a, x_train_b), y_train, epochs=20, validation_data=((x_validation_a, x_validation_b), y_valid))"
      ],
      "metadata": {
        "colab": {
          "base_uri": "https://localhost:8080/"
        },
        "id": "XIc0fp38Z0gr",
        "outputId": "3e882c27-d59f-4f70-8e39-201a74e680a8"
      },
      "execution_count": 16,
      "outputs": [
        {
          "output_type": "stream",
          "name": "stdout",
          "text": [
            "Epoch 1/20\n",
            "363/363 [==============================] - 2s 4ms/step - loss: 2.3118 - val_loss: 0.9082\n",
            "Epoch 2/20\n",
            "363/363 [==============================] - 2s 5ms/step - loss: 0.6253 - val_loss: 0.6402\n",
            "Epoch 3/20\n",
            "363/363 [==============================] - 1s 2ms/step - loss: 0.4917 - val_loss: 0.5702\n",
            "Epoch 4/20\n",
            "363/363 [==============================] - 1s 2ms/step - loss: 0.4494 - val_loss: 0.5138\n",
            "Epoch 5/20\n",
            "363/363 [==============================] - 1s 2ms/step - loss: 0.4055 - val_loss: 0.5037\n",
            "Epoch 6/20\n",
            "363/363 [==============================] - 1s 2ms/step - loss: 0.3934 - val_loss: 0.4905\n",
            "Epoch 7/20\n",
            "363/363 [==============================] - 1s 2ms/step - loss: 0.3837 - val_loss: 0.5579\n",
            "Epoch 8/20\n",
            "363/363 [==============================] - 1s 2ms/step - loss: 0.4152 - val_loss: 0.5014\n",
            "Epoch 9/20\n",
            "363/363 [==============================] - 1s 2ms/step - loss: 0.3921 - val_loss: 0.5222\n",
            "Epoch 10/20\n",
            "363/363 [==============================] - 1s 2ms/step - loss: 0.3803 - val_loss: 0.4612\n",
            "Epoch 11/20\n",
            "363/363 [==============================] - 1s 2ms/step - loss: 0.3831 - val_loss: 0.4905\n",
            "Epoch 12/20\n",
            "363/363 [==============================] - 1s 2ms/step - loss: 0.3711 - val_loss: 0.4508\n",
            "Epoch 13/20\n",
            "363/363 [==============================] - 1s 2ms/step - loss: 0.3522 - val_loss: 0.4583\n",
            "Epoch 14/20\n",
            "363/363 [==============================] - 1s 2ms/step - loss: 0.3611 - val_loss: 0.4266\n",
            "Epoch 15/20\n",
            "363/363 [==============================] - 1s 2ms/step - loss: 0.3400 - val_loss: 0.4444\n",
            "Epoch 16/20\n",
            "363/363 [==============================] - 1s 2ms/step - loss: 0.3425 - val_loss: 0.4430\n",
            "Epoch 17/20\n",
            "363/363 [==============================] - 1s 2ms/step - loss: 0.3511 - val_loss: 0.4880\n",
            "Epoch 18/20\n",
            "363/363 [==============================] - 1s 2ms/step - loss: 0.3848 - val_loss: 0.4597\n",
            "Epoch 19/20\n",
            "363/363 [==============================] - 1s 2ms/step - loss: 0.3576 - val_loss: 0.4755\n",
            "Epoch 20/20\n",
            "363/363 [==============================] - 1s 2ms/step - loss: 0.3547 - val_loss: 0.4382\n"
          ]
        }
      ]
    },
    {
      "cell_type": "code",
      "source": [
        "sns.set_style(\"darkgrid\")\n",
        "#get the details form the history object\n",
        "loss = history2.history['loss']\n",
        "val_loss = history2.history['val_loss']\n",
        "\n",
        "epochs = range(1, len(loss) + 1)\n",
        "\n",
        "plt.figure()\n",
        "plt.plot(epochs, loss, 'b', label='Training loss')\n",
        "plt.plot(epochs, val_loss, 'r', label='Validation loss')\n",
        "plt.xlabel('Epoch #')\n",
        "plt.ylabel('loss')\n",
        "plt.title('Mean Squared Error')\n",
        "plt.legend()\n",
        "\n",
        "plt.show()\n"
      ],
      "metadata": {
        "colab": {
          "base_uri": "https://localhost:8080/",
          "height": 295
        },
        "id": "FP7HsLAFb3fC",
        "outputId": "e0bdcc90-1353-4bd6-e53a-99e271c4b098"
      },
      "execution_count": 20,
      "outputs": [
        {
          "output_type": "display_data",
          "data": {
            "text/plain": [
              "<Figure size 432x288 with 1 Axes>"
            ],
            "image/png": "[encoded data removed]"
          },
          "metadata": {}
        }
      ]
    },
    {
      "cell_type": "code",
      "source": [
        "model2.evaluate((x_test_a, x_test_b), y_test)"
      ],
      "metadata": {
        "colab": {
          "base_uri": "https://localhost:8080/"
        },
        "id": "jGaXEti_b2-6",
        "outputId": "fd5ceae8-3f38-4b40-81b6-0fd42684dd29"
      },
      "execution_count": 21,
      "outputs": [
        {
          "output_type": "stream",
          "name": "stdout",
          "text": [
            "162/162 [==============================] - 0s 1ms/step - loss: 0.3765\n"
          ]
        },
        {
          "output_type": "execute_result",
          "data": {
            "text/plain": [
              "0.3764779567718506"
            ]
          },
          "metadata": {},
          "execution_count": 21
        }
      ]
    },
    {
      "cell_type": "markdown",
      "source": [
        "The above neural network has an accuracy of around 64% same as the model built using the Sequential API"
      ],
      "metadata": {
        "id": "Er78Ib7ehi15"
      }
    },
    {
      "cell_type": "markdown",
      "source": [
        "## Overall Performance:\n",
        "Comparitively, both the models have almost same performance but their accuracy can be further improved by changing the number of epochs or other hyperparameters."
      ],
      "metadata": {
        "id": "FpvSd1isifRM"
      }
    }
  ]
}