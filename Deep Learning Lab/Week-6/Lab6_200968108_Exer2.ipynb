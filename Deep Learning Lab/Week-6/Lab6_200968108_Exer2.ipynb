{
  "nbformat": 4,
  "nbformat_minor": 0,
  "metadata": {
    "colab": {
      "provenance": [],
      "collapsed_sections": []
    },
    "kernelspec": {
      "name": "python3",
      "display_name": "Python 3"
    },
    "language_info": {
      "name": "python"
    }
  },
  "cells": [
    {
      "cell_type": "markdown",
      "source": [
        "### Lab-6 200968108\n",
        "## Exercise-2\n",
        "Google Stock Price Dataset"
      ],
      "metadata": {
        "id": "oJhfLdModzGG"
      }
    },
    {
      "cell_type": "markdown",
      "source": [
        "Importing required libraries"
      ],
      "metadata": {
        "id": "H-qLa5Jfd-7y"
      }
    },
    {
      "cell_type": "code",
      "execution_count": 10,
      "metadata": {
        "id": "cPjbKekpdkZd"
      },
      "outputs": [],
      "source": [
        "import numpy as np\n",
        "import pandas as pd\n",
        "import matplotlib.pyplot as plt\n",
        "import seaborn as sns"
      ]
    },
    {
      "cell_type": "code",
      "source": [
        "# Importing the datasets\n",
        "GSP_train = pd.read_csv(\"Google_Stock_Price_Train.csv\")\n",
        "GSP_train"
      ],
      "metadata": {
        "colab": {
          "base_uri": "https://localhost:8080/",
          "height": 424
        },
        "id": "SMQ5RHofetGQ",
        "outputId": "c71a6de2-1230-48a4-e1ae-46eb631a8656"
      },
      "execution_count": 11,
      "outputs": [
        {
          "output_type": "execute_result",
          "data": {
            "text/plain": [
              "            Date    Open    High     Low   Close      Volume\n",
              "0       1/3/2012  325.25  332.83  324.97  663.59   7,380,500\n",
              "1       1/4/2012  331.27  333.87  329.08  666.45   5,749,400\n",
              "2       1/5/2012  329.83  330.75  326.89  657.21   6,590,300\n",
              "3       1/6/2012  328.34  328.77  323.68  648.24   5,405,900\n",
              "4       1/9/2012  322.04  322.29  309.46  620.76  11,688,800\n",
              "...          ...     ...     ...     ...     ...         ...\n",
              "1253  12/23/2016  790.90  792.74  787.28  789.91     623,400\n",
              "1254  12/27/2016  790.68  797.86  787.66  791.55     789,100\n",
              "1255  12/28/2016  793.70  794.23  783.20  785.05   1,153,800\n",
              "1256  12/29/2016  783.33  785.93  778.92  782.79     744,300\n",
              "1257  12/30/2016  782.75  782.78  770.41  771.82   1,770,000\n",
              "\n",
              "[1258 rows x 6 columns]"
            ],
            "text/html": [
              "\n",
              "  <div id=\"df-1648f276-a670-46de-8197-991805993711\">\n",
              "    <div class=\"colab-df-container\">\n",
              "      <div>\n",
              "<style scoped>\n",
              "    .dataframe tbody tr th:only-of-type {\n",
              "        vertical-align: middle;\n",
              "    }\n",
              "\n",
              "    .dataframe tbody tr th {\n",
              "        vertical-align: top;\n",
              "    }\n",
              "\n",
              "    .dataframe thead th {\n",
              "        text-align: right;\n",
              "    }\n",
              "</style>\n",
              "<table border=\"1\" class=\"dataframe\">\n",
              "  <thead>\n",
              "    <tr style=\"text-align: right;\">\n",
              "      <th></th>\n",
              "      <th>Date</th>\n",
              "      <th>Open</th>\n",
              "      <th>High</th>\n",
              "      <th>Low</th>\n",
              "      <th>Close</th>\n",
              "      <th>Volume</th>\n",
              "    </tr>\n",
              "  </thead>\n",
              "  <tbody>\n",
              "    <tr>\n",
              "      <th>0</th>\n",
              "      <td>1/3/2012</td>\n",
              "      <td>325.25</td>\n",
              "      <td>332.83</td>\n",
              "      <td>324.97</td>\n",
              "      <td>663.59</td>\n",
              "      <td>7,380,500</td>\n",
              "    </tr>\n",
              "    <tr>\n",
              "      <th>1</th>\n",
              "      <td>1/4/2012</td>\n",
              "      <td>331.27</td>\n",
              "      <td>333.87</td>\n",
              "      <td>329.08</td>\n",
              "      <td>666.45</td>\n",
              "      <td>5,749,400</td>\n",
              "    </tr>\n",
              "    <tr>\n",
              "      <th>2</th>\n",
              "      <td>1/5/2012</td>\n",
              "      <td>329.83</td>\n",
              "      <td>330.75</td>\n",
              "      <td>326.89</td>\n",
              "      <td>657.21</td>\n",
              "      <td>6,590,300</td>\n",
              "    </tr>\n",
              "    <tr>\n",
              "      <th>3</th>\n",
              "      <td>1/6/2012</td>\n",
              "      <td>328.34</td>\n",
              "      <td>328.77</td>\n",
              "      <td>323.68</td>\n",
              "      <td>648.24</td>\n",
              "      <td>5,405,900</td>\n",
              "    </tr>\n",
              "    <tr>\n",
              "      <th>4</th>\n",
              "      <td>1/9/2012</td>\n",
              "      <td>322.04</td>\n",
              "      <td>322.29</td>\n",
              "      <td>309.46</td>\n",
              "      <td>620.76</td>\n",
              "      <td>11,688,800</td>\n",
              "    </tr>\n",
              "    <tr>\n",
              "      <th>...</th>\n",
              "      <td>...</td>\n",
              "      <td>...</td>\n",
              "      <td>...</td>\n",
              "      <td>...</td>\n",
              "      <td>...</td>\n",
              "      <td>...</td>\n",
              "    </tr>\n",
              "    <tr>\n",
              "      <th>1253</th>\n",
              "      <td>12/23/2016</td>\n",
              "      <td>790.90</td>\n",
              "      <td>792.74</td>\n",
              "      <td>787.28</td>\n",
              "      <td>789.91</td>\n",
              "      <td>623,400</td>\n",
              "    </tr>\n",
              "    <tr>\n",
              "      <th>1254</th>\n",
              "      <td>12/27/2016</td>\n",
              "      <td>790.68</td>\n",
              "      <td>797.86</td>\n",
              "      <td>787.66</td>\n",
              "      <td>791.55</td>\n",
              "      <td>789,100</td>\n",
              "    </tr>\n",
              "    <tr>\n",
              "      <th>1255</th>\n",
              "      <td>12/28/2016</td>\n",
              "      <td>793.70</td>\n",
              "      <td>794.23</td>\n",
              "      <td>783.20</td>\n",
              "      <td>785.05</td>\n",
              "      <td>1,153,800</td>\n",
              "    </tr>\n",
              "    <tr>\n",
              "      <th>1256</th>\n",
              "      <td>12/29/2016</td>\n",
              "      <td>783.33</td>\n",
              "      <td>785.93</td>\n",
              "      <td>778.92</td>\n",
              "      <td>782.79</td>\n",
              "      <td>744,300</td>\n",
              "    </tr>\n",
              "    <tr>\n",
              "      <th>1257</th>\n",
              "      <td>12/30/2016</td>\n",
              "      <td>782.75</td>\n",
              "      <td>782.78</td>\n",
              "      <td>770.41</td>\n",
              "      <td>771.82</td>\n",
              "      <td>1,770,000</td>\n",
              "    </tr>\n",
              "  </tbody>\n",
              "</table>\n",
              "<p>1258 rows × 6 columns</p>\n",
              "</div>\n",
              "      <button class=\"colab-df-convert\" onclick=\"convertToInteractive('df-1648f276-a670-46de-8197-991805993711')\"\n",
              "              title=\"Convert this dataframe to an interactive table.\"\n",
              "              style=\"display:none;\">\n",
              "        \n",
              "  <svg xmlns=\"http://www.w3.org/2000/svg\" height=\"24px\"viewBox=\"0 0 24 24\"\n",
              "       width=\"24px\">\n",
              "    <path d=\"M0 0h24v24H0V0z\" fill=\"none\"/>\n",
              "    <path d=\"M18.56 5.44l.94 2.06.94-2.06 2.06-.94-2.06-.94-.94-2.06-.94 2.06-2.06.94zm-11 1L8.5 8.5l.94-2.06 2.06-.94-2.06-.94L8.5 2.5l-.94 2.06-2.06.94zm10 10l.94 2.06.94-2.06 2.06-.94-2.06-.94-.94-2.06-.94 2.06-2.06.94z\"/><path d=\"M17.41 7.96l-1.37-1.37c-.4-.4-.92-.59-1.43-.59-.52 0-1.04.2-1.43.59L10.3 9.45l-7.72 7.72c-.78.78-.78 2.05 0 2.83L4 21.41c.39.39.9.59 1.41.59.51 0 1.02-.2 1.41-.59l7.78-7.78 2.81-2.81c.8-.78.8-2.07 0-2.86zM5.41 20L4 18.59l7.72-7.72 1.47 1.35L5.41 20z\"/>\n",
              "  </svg>\n",
              "      </button>\n",
              "      \n",
              "  <style>\n",
              "    .colab-df-container {\n",
              "      display:flex;\n",
              "      flex-wrap:wrap;\n",
              "      gap: 12px;\n",
              "    }\n",
              "\n",
              "    .colab-df-convert {\n",
              "      background-color: #E8F0FE;\n",
              "      border: none;\n",
              "      border-radius: 50%;\n",
              "      cursor: pointer;\n",
              "      display: none;\n",
              "      fill: #1967D2;\n",
              "      height: 32px;\n",
              "      padding: 0 0 0 0;\n",
              "      width: 32px;\n",
              "    }\n",
              "\n",
              "    .colab-df-convert:hover {\n",
              "      background-color: #E2EBFA;\n",
              "      box-shadow: 0px 1px 2px rgba(60, 64, 67, 0.3), 0px 1px 3px 1px rgba(60, 64, 67, 0.15);\n",
              "      fill: #174EA6;\n",
              "    }\n",
              "\n",
              "    [theme=dark] .colab-df-convert {\n",
              "      background-color: #3B4455;\n",
              "      fill: #D2E3FC;\n",
              "    }\n",
              "\n",
              "    [theme=dark] .colab-df-convert:hover {\n",
              "      background-color: #434B5C;\n",
              "      box-shadow: 0px 1px 3px 1px rgba(0, 0, 0, 0.15);\n",
              "      filter: drop-shadow(0px 1px 2px rgba(0, 0, 0, 0.3));\n",
              "      fill: #FFFFFF;\n",
              "    }\n",
              "  </style>\n",
              "\n",
              "      <script>\n",
              "        const buttonEl =\n",
              "          document.querySelector('#df-1648f276-a670-46de-8197-991805993711 button.colab-df-convert');\n",
              "        buttonEl.style.display =\n",
              "          google.colab.kernel.accessAllowed ? 'block' : 'none';\n",
              "\n",
              "        async function convertToInteractive(key) {\n",
              "          const element = document.querySelector('#df-1648f276-a670-46de-8197-991805993711');\n",
              "          const dataTable =\n",
              "            await google.colab.kernel.invokeFunction('convertToInteractive',\n",
              "                                                     [key], {});\n",
              "          if (!dataTable) return;\n",
              "\n",
              "          const docLinkHtml = 'Like what you see? Visit the ' +\n",
              "            '<a target=\"_blank\" href=https://colab.research.google.com/notebooks/data_table.ipynb>data table notebook</a>'\n",
              "            + ' to learn more about interactive tables.';\n",
              "          element.innerHTML = '';\n",
              "          dataTable['output_type'] = 'display_data';\n",
              "          await google.colab.output.renderOutput(dataTable, element);\n",
              "          const docLink = document.createElement('div');\n",
              "          docLink.innerHTML = docLinkHtml;\n",
              "          element.appendChild(docLink);\n",
              "        }\n",
              "      </script>\n",
              "    </div>\n",
              "  </div>\n",
              "  "
            ]
          },
          "metadata": {},
          "execution_count": 11
        }
      ]
    },
    {
      "cell_type": "code",
      "source": [
        "GSP_test = pd.read_csv(\"Google_Stock_Price_Test.csv\")\n",
        "GSP_test"
      ],
      "metadata": {
        "colab": {
          "base_uri": "https://localhost:8080/",
          "height": 676
        },
        "id": "fxnuG6D1fMkN",
        "outputId": "ea6c7903-99c4-4ce5-b198-10758a5e0803"
      },
      "execution_count": 12,
      "outputs": [
        {
          "output_type": "execute_result",
          "data": {
            "text/plain": [
              "         Date    Open    High     Low   Close     Volume\n",
              "0    1/3/2017  778.81  789.63  775.80  786.14  1,657,300\n",
              "1    1/4/2017  788.36  791.34  783.16  786.90  1,073,000\n",
              "2    1/5/2017  786.08  794.48  785.02  794.02  1,335,200\n",
              "3    1/6/2017  795.26  807.90  792.20  806.15  1,640,200\n",
              "4    1/9/2017  806.40  809.97  802.83  806.65  1,272,400\n",
              "5   1/10/2017  807.86  809.13  803.51  804.79  1,176,800\n",
              "6   1/11/2017  805.00  808.15  801.37  807.91  1,065,900\n",
              "7   1/12/2017  807.14  807.39  799.17  806.36  1,353,100\n",
              "8   1/13/2017  807.48  811.22  806.69  807.88  1,099,200\n",
              "9   1/17/2017  807.08  807.14  800.37  804.61  1,362,100\n",
              "10  1/18/2017  805.81  806.21  800.99  806.07  1,294,400\n",
              "11  1/19/2017  805.12  809.48  801.80  802.17    919,300\n",
              "12  1/20/2017  806.91  806.91  801.69  805.02  1,670,000\n",
              "13  1/23/2017  807.25  820.87  803.74  819.31  1,963,600\n",
              "14  1/24/2017  822.30  825.90  817.82  823.87  1,474,000\n",
              "15  1/25/2017  829.62  835.77  825.06  835.67  1,494,500\n",
              "16  1/26/2017  837.81  838.00  827.01  832.15  2,973,900\n",
              "17  1/27/2017  834.71  841.95  820.44  823.31  2,965,800\n",
              "18  1/30/2017  814.66  815.84  799.80  802.32  3,246,600\n",
              "19  1/31/2017  796.86  801.25  790.52  796.79  2,160,600"
            ],
            "text/html": [
              "\n",
              "  <div id=\"df-eec38e64-af00-47ec-ac1f-9af1825fd78e\">\n",
              "    <div class=\"colab-df-container\">\n",
              "      <div>\n",
              "<style scoped>\n",
              "    .dataframe tbody tr th:only-of-type {\n",
              "        vertical-align: middle;\n",
              "    }\n",
              "\n",
              "    .dataframe tbody tr th {\n",
              "        vertical-align: top;\n",
              "    }\n",
              "\n",
              "    .dataframe thead th {\n",
              "        text-align: right;\n",
              "    }\n",
              "</style>\n",
              "<table border=\"1\" class=\"dataframe\">\n",
              "  <thead>\n",
              "    <tr style=\"text-align: right;\">\n",
              "      <th></th>\n",
              "      <th>Date</th>\n",
              "      <th>Open</th>\n",
              "      <th>High</th>\n",
              "      <th>Low</th>\n",
              "      <th>Close</th>\n",
              "      <th>Volume</th>\n",
              "    </tr>\n",
              "  </thead>\n",
              "  <tbody>\n",
              "    <tr>\n",
              "      <th>0</th>\n",
              "      <td>1/3/2017</td>\n",
              "      <td>778.81</td>\n",
              "      <td>789.63</td>\n",
              "      <td>775.80</td>\n",
              "      <td>786.14</td>\n",
              "      <td>1,657,300</td>\n",
              "    </tr>\n",
              "    <tr>\n",
              "      <th>1</th>\n",
              "      <td>1/4/2017</td>\n",
              "      <td>788.36</td>\n",
              "      <td>791.34</td>\n",
              "      <td>783.16</td>\n",
              "      <td>786.90</td>\n",
              "      <td>1,073,000</td>\n",
              "    </tr>\n",
              "    <tr>\n",
              "      <th>2</th>\n",
              "      <td>1/5/2017</td>\n",
              "      <td>786.08</td>\n",
              "      <td>794.48</td>\n",
              "      <td>785.02</td>\n",
              "      <td>794.02</td>\n",
              "      <td>1,335,200</td>\n",
              "    </tr>\n",
              "    <tr>\n",
              "      <th>3</th>\n",
              "      <td>1/6/2017</td>\n",
              "      <td>795.26</td>\n",
              "      <td>807.90</td>\n",
              "      <td>792.20</td>\n",
              "      <td>806.15</td>\n",
              "      <td>1,640,200</td>\n",
              "    </tr>\n",
              "    <tr>\n",
              "      <th>4</th>\n",
              "      <td>1/9/2017</td>\n",
              "      <td>806.40</td>\n",
              "      <td>809.97</td>\n",
              "      <td>802.83</td>\n",
              "      <td>806.65</td>\n",
              "      <td>1,272,400</td>\n",
              "    </tr>\n",
              "    <tr>\n",
              "      <th>5</th>\n",
              "      <td>1/10/2017</td>\n",
              "      <td>807.86</td>\n",
              "      <td>809.13</td>\n",
              "      <td>803.51</td>\n",
              "      <td>804.79</td>\n",
              "      <td>1,176,800</td>\n",
              "    </tr>\n",
              "    <tr>\n",
              "      <th>6</th>\n",
              "      <td>1/11/2017</td>\n",
              "      <td>805.00</td>\n",
              "      <td>808.15</td>\n",
              "      <td>801.37</td>\n",
              "      <td>807.91</td>\n",
              "      <td>1,065,900</td>\n",
              "    </tr>\n",
              "    <tr>\n",
              "      <th>7</th>\n",
              "      <td>1/12/2017</td>\n",
              "      <td>807.14</td>\n",
              "      <td>807.39</td>\n",
              "      <td>799.17</td>\n",
              "      <td>806.36</td>\n",
              "      <td>1,353,100</td>\n",
              "    </tr>\n",
              "    <tr>\n",
              "      <th>8</th>\n",
              "      <td>1/13/2017</td>\n",
              "      <td>807.48</td>\n",
              "      <td>811.22</td>\n",
              "      <td>806.69</td>\n",
              "      <td>807.88</td>\n",
              "      <td>1,099,200</td>\n",
              "    </tr>\n",
              "    <tr>\n",
              "      <th>9</th>\n",
              "      <td>1/17/2017</td>\n",
              "      <td>807.08</td>\n",
              "      <td>807.14</td>\n",
              "      <td>800.37</td>\n",
              "      <td>804.61</td>\n",
              "      <td>1,362,100</td>\n",
              "    </tr>\n",
              "    <tr>\n",
              "      <th>10</th>\n",
              "      <td>1/18/2017</td>\n",
              "      <td>805.81</td>\n",
              "      <td>806.21</td>\n",
              "      <td>800.99</td>\n",
              "      <td>806.07</td>\n",
              "      <td>1,294,400</td>\n",
              "    </tr>\n",
              "    <tr>\n",
              "      <th>11</th>\n",
              "      <td>1/19/2017</td>\n",
              "      <td>805.12</td>\n",
              "      <td>809.48</td>\n",
              "      <td>801.80</td>\n",
              "      <td>802.17</td>\n",
              "      <td>919,300</td>\n",
              "    </tr>\n",
              "    <tr>\n",
              "      <th>12</th>\n",
              "      <td>1/20/2017</td>\n",
              "      <td>806.91</td>\n",
              "      <td>806.91</td>\n",
              "      <td>801.69</td>\n",
              "      <td>805.02</td>\n",
              "      <td>1,670,000</td>\n",
              "    </tr>\n",
              "    <tr>\n",
              "      <th>13</th>\n",
              "      <td>1/23/2017</td>\n",
              "      <td>807.25</td>\n",
              "      <td>820.87</td>\n",
              "      <td>803.74</td>\n",
              "      <td>819.31</td>\n",
              "      <td>1,963,600</td>\n",
              "    </tr>\n",
              "    <tr>\n",
              "      <th>14</th>\n",
              "      <td>1/24/2017</td>\n",
              "      <td>822.30</td>\n",
              "      <td>825.90</td>\n",
              "      <td>817.82</td>\n",
              "      <td>823.87</td>\n",
              "      <td>1,474,000</td>\n",
              "    </tr>\n",
              "    <tr>\n",
              "      <th>15</th>\n",
              "      <td>1/25/2017</td>\n",
              "      <td>829.62</td>\n",
              "      <td>835.77</td>\n",
              "      <td>825.06</td>\n",
              "      <td>835.67</td>\n",
              "      <td>1,494,500</td>\n",
              "    </tr>\n",
              "    <tr>\n",
              "      <th>16</th>\n",
              "      <td>1/26/2017</td>\n",
              "      <td>837.81</td>\n",
              "      <td>838.00</td>\n",
              "      <td>827.01</td>\n",
              "      <td>832.15</td>\n",
              "      <td>2,973,900</td>\n",
              "    </tr>\n",
              "    <tr>\n",
              "      <th>17</th>\n",
              "      <td>1/27/2017</td>\n",
              "      <td>834.71</td>\n",
              "      <td>841.95</td>\n",
              "      <td>820.44</td>\n",
              "      <td>823.31</td>\n",
              "      <td>2,965,800</td>\n",
              "    </tr>\n",
              "    <tr>\n",
              "      <th>18</th>\n",
              "      <td>1/30/2017</td>\n",
              "      <td>814.66</td>\n",
              "      <td>815.84</td>\n",
              "      <td>799.80</td>\n",
              "      <td>802.32</td>\n",
              "      <td>3,246,600</td>\n",
              "    </tr>\n",
              "    <tr>\n",
              "      <th>19</th>\n",
              "      <td>1/31/2017</td>\n",
              "      <td>796.86</td>\n",
              "      <td>801.25</td>\n",
              "      <td>790.52</td>\n",
              "      <td>796.79</td>\n",
              "      <td>2,160,600</td>\n",
              "    </tr>\n",
              "  </tbody>\n",
              "</table>\n",
              "</div>\n",
              "      <button class=\"colab-df-convert\" onclick=\"convertToInteractive('df-eec38e64-af00-47ec-ac1f-9af1825fd78e')\"\n",
              "              title=\"Convert this dataframe to an interactive table.\"\n",
              "              style=\"display:none;\">\n",
              "        \n",
              "  <svg xmlns=\"http://www.w3.org/2000/svg\" height=\"24px\"viewBox=\"0 0 24 24\"\n",
              "       width=\"24px\">\n",
              "    <path d=\"M0 0h24v24H0V0z\" fill=\"none\"/>\n",
              "    <path d=\"M18.56 5.44l.94 2.06.94-2.06 2.06-.94-2.06-.94-.94-2.06-.94 2.06-2.06.94zm-11 1L8.5 8.5l.94-2.06 2.06-.94-2.06-.94L8.5 2.5l-.94 2.06-2.06.94zm10 10l.94 2.06.94-2.06 2.06-.94-2.06-.94-.94-2.06-.94 2.06-2.06.94z\"/><path d=\"M17.41 7.96l-1.37-1.37c-.4-.4-.92-.59-1.43-.59-.52 0-1.04.2-1.43.59L10.3 9.45l-7.72 7.72c-.78.78-.78 2.05 0 2.83L4 21.41c.39.39.9.59 1.41.59.51 0 1.02-.2 1.41-.59l7.78-7.78 2.81-2.81c.8-.78.8-2.07 0-2.86zM5.41 20L4 18.59l7.72-7.72 1.47 1.35L5.41 20z\"/>\n",
              "  </svg>\n",
              "      </button>\n",
              "      \n",
              "  <style>\n",
              "    .colab-df-container {\n",
              "      display:flex;\n",
              "      flex-wrap:wrap;\n",
              "      gap: 12px;\n",
              "    }\n",
              "\n",
              "    .colab-df-convert {\n",
              "      background-color: #E8F0FE;\n",
              "      border: none;\n",
              "      border-radius: 50%;\n",
              "      cursor: pointer;\n",
              "      display: none;\n",
              "      fill: #1967D2;\n",
              "      height: 32px;\n",
              "      padding: 0 0 0 0;\n",
              "      width: 32px;\n",
              "    }\n",
              "\n",
              "    .colab-df-convert:hover {\n",
              "      background-color: #E2EBFA;\n",
              "      box-shadow: 0px 1px 2px rgba(60, 64, 67, 0.3), 0px 1px 3px 1px rgba(60, 64, 67, 0.15);\n",
              "      fill: #174EA6;\n",
              "    }\n",
              "\n",
              "    [theme=dark] .colab-df-convert {\n",
              "      background-color: #3B4455;\n",
              "      fill: #D2E3FC;\n",
              "    }\n",
              "\n",
              "    [theme=dark] .colab-df-convert:hover {\n",
              "      background-color: #434B5C;\n",
              "      box-shadow: 0px 1px 3px 1px rgba(0, 0, 0, 0.15);\n",
              "      filter: drop-shadow(0px 1px 2px rgba(0, 0, 0, 0.3));\n",
              "      fill: #FFFFFF;\n",
              "    }\n",
              "  </style>\n",
              "\n",
              "      <script>\n",
              "        const buttonEl =\n",
              "          document.querySelector('#df-eec38e64-af00-47ec-ac1f-9af1825fd78e button.colab-df-convert');\n",
              "        buttonEl.style.display =\n",
              "          google.colab.kernel.accessAllowed ? 'block' : 'none';\n",
              "\n",
              "        async function convertToInteractive(key) {\n",
              "          const element = document.querySelector('#df-eec38e64-af00-47ec-ac1f-9af1825fd78e');\n",
              "          const dataTable =\n",
              "            await google.colab.kernel.invokeFunction('convertToInteractive',\n",
              "                                                     [key], {});\n",
              "          if (!dataTable) return;\n",
              "\n",
              "          const docLinkHtml = 'Like what you see? Visit the ' +\n",
              "            '<a target=\"_blank\" href=https://colab.research.google.com/notebooks/data_table.ipynb>data table notebook</a>'\n",
              "            + ' to learn more about interactive tables.';\n",
              "          element.innerHTML = '';\n",
              "          dataTable['output_type'] = 'display_data';\n",
              "          await google.colab.output.renderOutput(dataTable, element);\n",
              "          const docLink = document.createElement('div');\n",
              "          docLink.innerHTML = docLinkHtml;\n",
              "          element.appendChild(docLink);\n",
              "        }\n",
              "      </script>\n",
              "    </div>\n",
              "  </div>\n",
              "  "
            ]
          },
          "metadata": {},
          "execution_count": 12
        }
      ]
    },
    {
      "cell_type": "code",
      "source": [
        "# information of the data\n",
        "GSP_train.info()"
      ],
      "metadata": {
        "colab": {
          "base_uri": "https://localhost:8080/"
        },
        "id": "JdKH0D1qfSJr",
        "outputId": "d4a38bff-0659-4faf-f0fe-cec6944ebad7"
      },
      "execution_count": 13,
      "outputs": [
        {
          "output_type": "stream",
          "name": "stdout",
          "text": [
            "<class 'pandas.core.frame.DataFrame'>\n",
            "RangeIndex: 1258 entries, 0 to 1257\n",
            "Data columns (total 6 columns):\n",
            " #   Column  Non-Null Count  Dtype  \n",
            "---  ------  --------------  -----  \n",
            " 0   Date    1258 non-null   object \n",
            " 1   Open    1258 non-null   float64\n",
            " 2   High    1258 non-null   float64\n",
            " 3   Low     1258 non-null   float64\n",
            " 4   Close   1258 non-null   object \n",
            " 5   Volume  1258 non-null   object \n",
            "dtypes: float64(3), object(3)\n",
            "memory usage: 59.1+ KB\n"
          ]
        }
      ]
    },
    {
      "cell_type": "code",
      "source": [
        "# separating the data to apply the RNN\n",
        "data = GSP_train.loc[:, [\"Open\"]].values\n",
        "data"
      ],
      "metadata": {
        "colab": {
          "base_uri": "https://localhost:8080/"
        },
        "id": "qTsUNHrAnorR",
        "outputId": "4821a000-7018-4975-a243-ecb7eb48196f"
      },
      "execution_count": 14,
      "outputs": [
        {
          "output_type": "execute_result",
          "data": {
            "text/plain": [
              "array([[325.25],\n",
              "       [331.27],\n",
              "       [329.83],\n",
              "       ...,\n",
              "       [793.7 ],\n",
              "       [783.33],\n",
              "       [782.75]])"
            ]
          },
          "metadata": {},
          "execution_count": 14
        }
      ]
    },
    {
      "cell_type": "code",
      "source": [
        "# Normalization wiht MinmaxScaler\n",
        "from sklearn.preprocessing import MinMaxScaler\n",
        "scaler = MinMaxScaler(feature_range = (0,1))\n",
        "data_scaler = scaler.fit_transform(data)\n",
        "data_scaler"
      ],
      "metadata": {
        "colab": {
          "base_uri": "https://localhost:8080/"
        },
        "id": "bKAcGybUphjJ",
        "outputId": "47f85dca-3945-4705-d6d6-bae47644f538"
      },
      "execution_count": 15,
      "outputs": [
        {
          "output_type": "execute_result",
          "data": {
            "text/plain": [
              "array([[0.08581368],\n",
              "       [0.09701243],\n",
              "       [0.09433366],\n",
              "       ...,\n",
              "       [0.95725128],\n",
              "       [0.93796041],\n",
              "       [0.93688146]])"
            ]
          },
          "metadata": {},
          "execution_count": 15
        }
      ]
    },
    {
      "cell_type": "code",
      "source": [
        "# vizualizing the scaled data\n",
        "plt.plot(data_scaler)\n",
        "plt.show()"
      ],
      "metadata": {
        "colab": {
          "base_uri": "https://localhost:8080/",
          "height": 265
        },
        "id": "XCrO3ORqqApq",
        "outputId": "f0b8214b-9224-4130-9ca7-417c91ea634f"
      },
      "execution_count": 16,
      "outputs": [
        {
          "output_type": "display_data",
          "data": {
            "text/plain": [
              "<Figure size 432x288 with 1 Axes>"
            ],
            "image/png": "[encoded data removed]"
          },
          "metadata": {
            "needs_background": "light"
          }
        }
      ]
    },
    {
      "cell_type": "markdown",
      "source": [
        "Using 50 time steps and 4 layers of network in both the RNN and LSTM models."
      ],
      "metadata": {
        "id": "lvwpr4uCqPF4"
      }
    },
    {
      "cell_type": "code",
      "source": [
        "X_train = []\n",
        "y_train = []\n",
        "timesteps = 50\n",
        "\n",
        "for i in range(timesteps, len(data_scaler)):\n",
        "  X_train.append(data_scaler[i-timesteps:i, 0])\n",
        "  y_train.append(data_scaler[i,0])\n",
        "\n",
        "X_train, y_train = np.array(X_train), np.array(y_train)\n",
        "\n",
        "# reshaping the data\n",
        "X_train = np.reshape(X_train, (X_train.shape[0], X_train.shape[1], 1))\n",
        "X_train"
      ],
      "metadata": {
        "colab": {
          "base_uri": "https://localhost:8080/"
        },
        "id": "rZyFgCFIqGXq",
        "outputId": "00310bfb-6cc1-4d2c-871f-f2599c8bfc22"
      },
      "execution_count": 17,
      "outputs": [
        {
          "output_type": "execute_result",
          "data": {
            "text/plain": [
              "array([[[0.08581368],\n",
              "        [0.09701243],\n",
              "        [0.09433366],\n",
              "        ...,\n",
              "        [0.03675869],\n",
              "        [0.04486941],\n",
              "        [0.05065481]],\n",
              "\n",
              "       [[0.09701243],\n",
              "        [0.09433366],\n",
              "        [0.09156187],\n",
              "        ...,\n",
              "        [0.04486941],\n",
              "        [0.05065481],\n",
              "        [0.05214302]],\n",
              "\n",
              "       [[0.09433366],\n",
              "        [0.09156187],\n",
              "        [0.07984225],\n",
              "        ...,\n",
              "        [0.05065481],\n",
              "        [0.05214302],\n",
              "        [0.05612397]],\n",
              "\n",
              "       ...,\n",
              "\n",
              "       [[0.9313937 ],\n",
              "        [0.94636878],\n",
              "        [0.96569685],\n",
              "        ...,\n",
              "        [0.95475854],\n",
              "        [0.95204256],\n",
              "        [0.95163331]],\n",
              "\n",
              "       [[0.94636878],\n",
              "        [0.96569685],\n",
              "        [0.97510976],\n",
              "        ...,\n",
              "        [0.95204256],\n",
              "        [0.95163331],\n",
              "        [0.95725128]],\n",
              "\n",
              "       [[0.96569685],\n",
              "        [0.97510976],\n",
              "        [0.95966962],\n",
              "        ...,\n",
              "        [0.95163331],\n",
              "        [0.95725128],\n",
              "        [0.93796041]]])"
            ]
          },
          "metadata": {},
          "execution_count": 17
        }
      ]
    },
    {
      "cell_type": "code",
      "source": [
        "X_train.shape"
      ],
      "metadata": {
        "colab": {
          "base_uri": "https://localhost:8080/"
        },
        "id": "154Q37TSrLoL",
        "outputId": "9aced7d7-8850-4a11-db56-4dfcdde2dd1d"
      },
      "execution_count": 18,
      "outputs": [
        {
          "output_type": "execute_result",
          "data": {
            "text/plain": [
              "(1208, 50, 1)"
            ]
          },
          "metadata": {},
          "execution_count": 18
        }
      ]
    },
    {
      "cell_type": "markdown",
      "source": [
        "**Creating the RNN model with 4 layers**"
      ],
      "metadata": {
        "id": "7Wkd7Vzvrghm"
      }
    },
    {
      "cell_type": "code",
      "source": [
        "from keras.models import Sequential\n",
        "from keras.layers import Dense, SimpleRNN, Dropout\n",
        "\n",
        "# Initialising the RNN\n",
        "rnn_model = Sequential()\n",
        "rnn_model.add(SimpleRNN(units = 50, activation = \"tanh\", return_sequences = True, input_shape = (X_train.shape[1], 1)))\n",
        "rnn_model.add(Dropout(0.2))\n",
        "\n",
        "# Second RNN layer and some Dropout regularisation\n",
        "rnn_model.add(SimpleRNN(units = 50, activation = \"tanh\", return_sequences = True))\n",
        "rnn_model.add(Dropout(0.2))\n",
        "\n",
        "# Third RNN layer and some Dropout regularisation\n",
        "rnn_model.add(SimpleRNN(units = 50, activation = \"tanh\", return_sequences = True))\n",
        "rnn_model.add(Dropout(0.2))\n",
        "\n",
        "# Fourth RNN layer and some Dropout regularisation\n",
        "rnn_model.add(SimpleRNN(units = 50))\n",
        "rnn_model.add(Dropout(0.2))\n",
        "\n",
        "# Add the output layer\n",
        "rnn_model.add(Dense(units = 1))\n",
        "\n",
        "# Compiling the RNN\n",
        "rnn_model.compile(optimizer = \"adam\", loss = \"mean_squared_error\")\n",
        "\n",
        "# Fitting the RNN to the training set\n",
        "rnn_model.fit(X_train, y_train, epochs = 100, batch_size = 32)"
      ],
      "metadata": {
        "colab": {
          "base_uri": "https://localhost:8080/"
        },
        "id": "qJWuzKGvrdDe",
        "outputId": "11173d64-dc7d-47ee-be1e-300fe3393e30"
      },
      "execution_count": 19,
      "outputs": [
        {
          "output_type": "stream",
          "name": "stdout",
          "text": [
            "Epoch 1/100\n",
            "38/38 [==============================] - 6s 52ms/step - loss: 0.4016\n",
            "Epoch 2/100\n",
            "38/38 [==============================] - 2s 47ms/step - loss: 0.2793\n",
            "Epoch 3/100\n",
            "38/38 [==============================] - 2s 50ms/step - loss: 0.2354\n",
            "Epoch 4/100\n",
            "38/38 [==============================] - 2s 46ms/step - loss: 0.2103\n",
            "Epoch 5/100\n",
            "38/38 [==============================] - 2s 46ms/step - loss: 0.1359\n",
            "Epoch 6/100\n",
            "38/38 [==============================] - 2s 50ms/step - loss: 0.1128\n",
            "Epoch 7/100\n",
            "38/38 [==============================] - 2s 45ms/step - loss: 0.0967\n",
            "Epoch 8/100\n",
            "38/38 [==============================] - 2s 46ms/step - loss: 0.0808\n",
            "Epoch 9/100\n",
            "38/38 [==============================] - 2s 53ms/step - loss: 0.0707\n",
            "Epoch 10/100\n",
            "38/38 [==============================] - 2s 53ms/step - loss: 0.0636\n",
            "Epoch 11/100\n",
            "38/38 [==============================] - 2s 51ms/step - loss: 0.0522\n",
            "Epoch 12/100\n",
            "38/38 [==============================] - 2s 46ms/step - loss: 0.0467\n",
            "Epoch 13/100\n",
            "38/38 [==============================] - 2s 46ms/step - loss: 0.0392\n",
            "Epoch 14/100\n",
            "38/38 [==============================] - 2s 46ms/step - loss: 0.0373\n",
            "Epoch 15/100\n",
            "38/38 [==============================] - 2s 46ms/step - loss: 0.0343\n",
            "Epoch 16/100\n",
            "38/38 [==============================] - 2s 45ms/step - loss: 0.0310\n",
            "Epoch 17/100\n",
            "38/38 [==============================] - 2s 46ms/step - loss: 0.0270\n",
            "Epoch 18/100\n",
            "38/38 [==============================] - 2s 45ms/step - loss: 0.0266\n",
            "Epoch 19/100\n",
            "38/38 [==============================] - 2s 46ms/step - loss: 0.0235\n",
            "Epoch 20/100\n",
            "38/38 [==============================] - 2s 50ms/step - loss: 0.0208\n",
            "Epoch 21/100\n",
            "38/38 [==============================] - 2s 54ms/step - loss: 0.0179\n",
            "Epoch 22/100\n",
            "38/38 [==============================] - 2s 54ms/step - loss: 0.0179\n",
            "Epoch 23/100\n",
            "38/38 [==============================] - 2s 45ms/step - loss: 0.0153\n",
            "Epoch 24/100\n",
            "38/38 [==============================] - 2s 49ms/step - loss: 0.0154\n",
            "Epoch 25/100\n",
            "38/38 [==============================] - 2s 55ms/step - loss: 0.0143\n",
            "Epoch 26/100\n",
            "38/38 [==============================] - 2s 58ms/step - loss: 0.0114\n",
            "Epoch 27/100\n",
            "38/38 [==============================] - 2s 54ms/step - loss: 0.0121\n",
            "Epoch 28/100\n",
            "38/38 [==============================] - 2s 50ms/step - loss: 0.0109\n",
            "Epoch 29/100\n",
            "38/38 [==============================] - 2s 46ms/step - loss: 0.0110\n",
            "Epoch 30/100\n",
            "38/38 [==============================] - 2s 47ms/step - loss: 0.0097\n",
            "Epoch 31/100\n",
            "38/38 [==============================] - 2s 54ms/step - loss: 0.0098\n",
            "Epoch 32/100\n",
            "38/38 [==============================] - 2s 49ms/step - loss: 0.0090\n",
            "Epoch 33/100\n",
            "38/38 [==============================] - 2s 46ms/step - loss: 0.0081\n",
            "Epoch 34/100\n",
            "38/38 [==============================] - 2s 46ms/step - loss: 0.0079\n",
            "Epoch 35/100\n",
            "38/38 [==============================] - 2s 48ms/step - loss: 0.0084\n",
            "Epoch 36/100\n",
            "38/38 [==============================] - 4s 97ms/step - loss: 0.0078\n",
            "Epoch 37/100\n",
            "38/38 [==============================] - 2s 61ms/step - loss: 0.0075\n",
            "Epoch 38/100\n",
            "38/38 [==============================] - 2s 54ms/step - loss: 0.0074\n",
            "Epoch 39/100\n",
            "38/38 [==============================] - 2s 56ms/step - loss: 0.0066\n",
            "Epoch 40/100\n",
            "38/38 [==============================] - 2s 48ms/step - loss: 0.0067\n",
            "Epoch 41/100\n",
            "38/38 [==============================] - 2s 48ms/step - loss: 0.0063\n",
            "Epoch 42/100\n",
            "38/38 [==============================] - 2s 49ms/step - loss: 0.0066\n",
            "Epoch 43/100\n",
            "38/38 [==============================] - 2s 56ms/step - loss: 0.0061\n",
            "Epoch 44/100\n",
            "38/38 [==============================] - 2s 51ms/step - loss: 0.0058\n",
            "Epoch 45/100\n",
            "38/38 [==============================] - 2s 47ms/step - loss: 0.0051\n",
            "Epoch 46/100\n",
            "38/38 [==============================] - 2s 46ms/step - loss: 0.0057\n",
            "Epoch 47/100\n",
            "38/38 [==============================] - 2s 51ms/step - loss: 0.0051\n",
            "Epoch 48/100\n",
            "38/38 [==============================] - 2s 49ms/step - loss: 0.0053\n",
            "Epoch 49/100\n",
            "38/38 [==============================] - 2s 49ms/step - loss: 0.0049\n",
            "Epoch 50/100\n",
            "38/38 [==============================] - 2s 49ms/step - loss: 0.0048\n",
            "Epoch 51/100\n",
            "38/38 [==============================] - 2s 48ms/step - loss: 0.0045\n",
            "Epoch 52/100\n",
            "38/38 [==============================] - 2s 48ms/step - loss: 0.0044\n",
            "Epoch 53/100\n",
            "38/38 [==============================] - 2s 53ms/step - loss: 0.0045\n",
            "Epoch 54/100\n",
            "38/38 [==============================] - 2s 55ms/step - loss: 0.0046\n",
            "Epoch 55/100\n",
            "38/38 [==============================] - 2s 55ms/step - loss: 0.0044\n",
            "Epoch 56/100\n",
            "38/38 [==============================] - 2s 48ms/step - loss: 0.0040\n",
            "Epoch 57/100\n",
            "38/38 [==============================] - 2s 49ms/step - loss: 0.0039\n",
            "Epoch 58/100\n",
            "38/38 [==============================] - 2s 48ms/step - loss: 0.0041\n",
            "Epoch 59/100\n",
            "38/38 [==============================] - 2s 46ms/step - loss: 0.0035\n",
            "Epoch 60/100\n",
            "38/38 [==============================] - 2s 46ms/step - loss: 0.0038\n",
            "Epoch 61/100\n",
            "38/38 [==============================] - 2s 53ms/step - loss: 0.0035\n",
            "Epoch 62/100\n",
            "38/38 [==============================] - 2s 54ms/step - loss: 0.0036\n",
            "Epoch 63/100\n",
            "38/38 [==============================] - 2s 56ms/step - loss: 0.0034\n",
            "Epoch 64/100\n",
            "38/38 [==============================] - 2s 54ms/step - loss: 0.0039\n",
            "Epoch 65/100\n",
            "38/38 [==============================] - 2s 55ms/step - loss: 0.0037\n",
            "Epoch 66/100\n",
            "38/38 [==============================] - 2s 49ms/step - loss: 0.0037\n",
            "Epoch 67/100\n",
            "38/38 [==============================] - 2s 51ms/step - loss: 0.0035\n",
            "Epoch 68/100\n",
            "38/38 [==============================] - 2s 51ms/step - loss: 0.0033\n",
            "Epoch 69/100\n",
            "38/38 [==============================] - 2s 46ms/step - loss: 0.0031\n",
            "Epoch 70/100\n",
            "38/38 [==============================] - 2s 54ms/step - loss: 0.0031\n",
            "Epoch 71/100\n",
            "38/38 [==============================] - 2s 54ms/step - loss: 0.0033\n",
            "Epoch 72/100\n",
            "38/38 [==============================] - 2s 55ms/step - loss: 0.0029\n",
            "Epoch 73/100\n",
            "38/38 [==============================] - 2s 55ms/step - loss: 0.0032\n",
            "Epoch 74/100\n",
            "38/38 [==============================] - 2s 50ms/step - loss: 0.0030\n",
            "Epoch 75/100\n",
            "38/38 [==============================] - 2s 56ms/step - loss: 0.0029\n",
            "Epoch 76/100\n",
            "38/38 [==============================] - 2s 52ms/step - loss: 0.0029\n",
            "Epoch 77/100\n",
            "38/38 [==============================] - 2s 46ms/step - loss: 0.0026\n",
            "Epoch 78/100\n",
            "38/38 [==============================] - 2s 45ms/step - loss: 0.0029\n",
            "Epoch 79/100\n",
            "38/38 [==============================] - 2s 52ms/step - loss: 0.0028\n",
            "Epoch 80/100\n",
            "38/38 [==============================] - 2s 46ms/step - loss: 0.0027\n",
            "Epoch 81/100\n",
            "38/38 [==============================] - 2s 45ms/step - loss: 0.0027\n",
            "Epoch 82/100\n",
            "38/38 [==============================] - 2s 46ms/step - loss: 0.0027\n",
            "Epoch 83/100\n",
            "38/38 [==============================] - 2s 49ms/step - loss: 0.0027\n",
            "Epoch 84/100\n",
            "38/38 [==============================] - 2s 49ms/step - loss: 0.0028\n",
            "Epoch 85/100\n",
            "38/38 [==============================] - 2s 53ms/step - loss: 0.0027\n",
            "Epoch 86/100\n",
            "38/38 [==============================] - 2s 55ms/step - loss: 0.0030\n",
            "Epoch 87/100\n",
            "38/38 [==============================] - 2s 47ms/step - loss: 0.0025\n",
            "Epoch 88/100\n",
            "38/38 [==============================] - 2s 46ms/step - loss: 0.0025\n",
            "Epoch 89/100\n",
            "38/38 [==============================] - 2s 50ms/step - loss: 0.0024\n",
            "Epoch 90/100\n",
            "38/38 [==============================] - 2s 54ms/step - loss: 0.0026\n",
            "Epoch 91/100\n",
            "38/38 [==============================] - 2s 58ms/step - loss: 0.0024\n",
            "Epoch 92/100\n",
            "38/38 [==============================] - 2s 50ms/step - loss: 0.0024\n",
            "Epoch 93/100\n",
            "38/38 [==============================] - 2s 49ms/step - loss: 0.0026\n",
            "Epoch 94/100\n",
            "38/38 [==============================] - 2s 56ms/step - loss: 0.0026\n",
            "Epoch 95/100\n",
            "38/38 [==============================] - 2s 54ms/step - loss: 0.0022\n",
            "Epoch 96/100\n",
            "38/38 [==============================] - 2s 47ms/step - loss: 0.0024\n",
            "Epoch 97/100\n",
            "38/38 [==============================] - 2s 46ms/step - loss: 0.0026\n",
            "Epoch 98/100\n",
            "38/38 [==============================] - 2s 46ms/step - loss: 0.0023\n",
            "Epoch 99/100\n",
            "38/38 [==============================] - 2s 50ms/step - loss: 0.0021\n",
            "Epoch 100/100\n",
            "38/38 [==============================] - 2s 51ms/step - loss: 0.0021\n"
          ]
        },
        {
          "output_type": "execute_result",
          "data": {
            "text/plain": [
              "<keras.callbacks.History at 0x7f206f48f250>"
            ]
          },
          "metadata": {},
          "execution_count": 19
        }
      ]
    },
    {
      "cell_type": "code",
      "source": [
        "real_stock_price = GSP_test.loc[:,[\"Open\"]].values"
      ],
      "metadata": {
        "id": "QOIrvzrwseH8"
      },
      "execution_count": 20,
      "outputs": []
    },
    {
      "cell_type": "code",
      "source": [
        "dataset_total=pd.concat((GSP_train[\"Open\"],GSP_test[\"Open\"]),axis=0)\n",
        "inputs=dataset_total[len(dataset_total)-len(GSP_test)-timesteps:].values.reshape(-1,1)\n",
        "inputs=scaler.transform(inputs)"
      ],
      "metadata": {
        "id": "eWN450nBuy0S"
      },
      "execution_count": 21,
      "outputs": []
    },
    {
      "cell_type": "code",
      "source": [
        "X_test1=[]\n",
        "for i in range(timesteps,70):\n",
        "    X_test1.append(inputs[i-timesteps:i,0])\n",
        "X_test1=np.array(X_test1)\n",
        "X_test1=np.reshape(X_test1,(X_test1.shape[0],X_test1.shape[1],1))\n",
        "predicted_stock_price_RNN=rnn_model.predict(X_test1)\n",
        "predicted_stock_price_RNN=scaler.inverse_transform(predicted_stock_price_RNN)"
      ],
      "metadata": {
        "id": "wHH1rLy0uZAb"
      },
      "execution_count": 22,
      "outputs": []
    },
    {
      "cell_type": "code",
      "source": [
        "rnn_model.evaluate(X_test1)"
      ],
      "metadata": {
        "colab": {
          "base_uri": "https://localhost:8080/"
        },
        "id": "doiaCyPnvFYo",
        "outputId": "615fa2f2-7a08-4fa0-af5f-cc1842aacde6"
      },
      "execution_count": 23,
      "outputs": [
        {
          "output_type": "stream",
          "name": "stdout",
          "text": [
            "1/1 [==============================] - 0s 487ms/step - loss: 0.0000e+00\n"
          ]
        },
        {
          "output_type": "execute_result",
          "data": {
            "text/plain": [
              "0.0"
            ]
          },
          "metadata": {},
          "execution_count": 23
        }
      ]
    },
    {
      "cell_type": "markdown",
      "source": [
        "**Creating the LSTM model with 4 layers**"
      ],
      "metadata": {
        "id": "5UlFYPoOvVh2"
      }
    },
    {
      "cell_type": "code",
      "source": [
        "from keras.layers import LSTM\n",
        "\n",
        "lstm_model = Sequential()\n",
        "lstm_model.add(LSTM(units = 50, return_sequences = True, input_shape = (X_train.shape[1], 1)))\n",
        "lstm_model.add(Dropout(0.2))\n",
        "\n",
        "lstm_model.add(LSTM(units = 50, return_sequences = True))\n",
        "lstm_model.add(Dropout(0.2))\n",
        "\n",
        "lstm_model.add(LSTM(units = 50, return_sequences = True))\n",
        "lstm_model.add(Dropout(0.2))\n",
        "\n",
        "lstm_model.add(LSTM(units = 50))\n",
        "lstm_model.add(Dropout(0.2))\n",
        "\n",
        "lstm_model.add(Dense(units = 1))\n",
        "\n",
        "lstm_model.compile(loss = \"mean_squared_error\", optimizer = \"adam\")\n",
        "lstm_model.fit(X_train, y_train, epochs = 100, batch_size = 32)\n"
      ],
      "metadata": {
        "colab": {
          "base_uri": "https://localhost:8080/"
        },
        "id": "5z1mznCnvTQU",
        "outputId": "712d8db4-f3f9-4098-c8d5-604d42fc70ff"
      },
      "execution_count": 24,
      "outputs": [
        {
          "output_type": "stream",
          "name": "stdout",
          "text": [
            "Epoch 1/100\n",
            "38/38 [==============================] - 12s 107ms/step - loss: 0.0406\n",
            "Epoch 2/100\n",
            "38/38 [==============================] - 4s 107ms/step - loss: 0.0066\n",
            "Epoch 3/100\n",
            "38/38 [==============================] - 4s 107ms/step - loss: 0.0053\n",
            "Epoch 4/100\n",
            "38/38 [==============================] - 4s 112ms/step - loss: 0.0056\n",
            "Epoch 5/100\n",
            "38/38 [==============================] - 4s 106ms/step - loss: 0.0055\n",
            "Epoch 6/100\n",
            "38/38 [==============================] - 4s 109ms/step - loss: 0.0046\n",
            "Epoch 7/100\n",
            "38/38 [==============================] - 4s 103ms/step - loss: 0.0048\n",
            "Epoch 8/100\n",
            "38/38 [==============================] - 4s 114ms/step - loss: 0.0046\n",
            "Epoch 9/100\n",
            "38/38 [==============================] - 4s 114ms/step - loss: 0.0042\n",
            "Epoch 10/100\n",
            "38/38 [==============================] - 4s 109ms/step - loss: 0.0042\n",
            "Epoch 11/100\n",
            "38/38 [==============================] - 4s 101ms/step - loss: 0.0040\n",
            "Epoch 12/100\n",
            "38/38 [==============================] - 4s 102ms/step - loss: 0.0038\n",
            "Epoch 13/100\n",
            "38/38 [==============================] - 4s 113ms/step - loss: 0.0046\n",
            "Epoch 14/100\n",
            "38/38 [==============================] - 4s 108ms/step - loss: 0.0039\n",
            "Epoch 15/100\n",
            "38/38 [==============================] - 4s 100ms/step - loss: 0.0035\n",
            "Epoch 16/100\n",
            "38/38 [==============================] - 4s 100ms/step - loss: 0.0032\n",
            "Epoch 17/100\n",
            "38/38 [==============================] - 4s 102ms/step - loss: 0.0033\n",
            "Epoch 18/100\n",
            "38/38 [==============================] - 4s 115ms/step - loss: 0.0033\n",
            "Epoch 19/100\n",
            "38/38 [==============================] - 4s 108ms/step - loss: 0.0033\n",
            "Epoch 20/100\n",
            "38/38 [==============================] - 4s 114ms/step - loss: 0.0042\n",
            "Epoch 21/100\n",
            "38/38 [==============================] - 4s 102ms/step - loss: 0.0033\n",
            "Epoch 22/100\n",
            "38/38 [==============================] - 4s 102ms/step - loss: 0.0033\n",
            "Epoch 23/100\n",
            "38/38 [==============================] - 4s 107ms/step - loss: 0.0031\n",
            "Epoch 24/100\n",
            "38/38 [==============================] - 4s 112ms/step - loss: 0.0033\n",
            "Epoch 25/100\n",
            "38/38 [==============================] - 4s 104ms/step - loss: 0.0033\n",
            "Epoch 26/100\n",
            "38/38 [==============================] - 4s 105ms/step - loss: 0.0029\n",
            "Epoch 27/100\n",
            "38/38 [==============================] - 4s 102ms/step - loss: 0.0033\n",
            "Epoch 28/100\n",
            "38/38 [==============================] - 4s 101ms/step - loss: 0.0028\n",
            "Epoch 29/100\n",
            "38/38 [==============================] - 4s 100ms/step - loss: 0.0031\n",
            "Epoch 30/100\n",
            "38/38 [==============================] - 4s 102ms/step - loss: 0.0031\n",
            "Epoch 31/100\n",
            "38/38 [==============================] - 4s 105ms/step - loss: 0.0031\n",
            "Epoch 32/100\n",
            "38/38 [==============================] - 4s 102ms/step - loss: 0.0029\n",
            "Epoch 33/100\n",
            "38/38 [==============================] - 4s 101ms/step - loss: 0.0027\n",
            "Epoch 34/100\n",
            "38/38 [==============================] - 4s 103ms/step - loss: 0.0028\n",
            "Epoch 35/100\n",
            "38/38 [==============================] - 4s 106ms/step - loss: 0.0033\n",
            "Epoch 36/100\n",
            "38/38 [==============================] - 4s 117ms/step - loss: 0.0027\n",
            "Epoch 37/100\n",
            "38/38 [==============================] - 4s 117ms/step - loss: 0.0029\n",
            "Epoch 38/100\n",
            "38/38 [==============================] - 4s 104ms/step - loss: 0.0027\n",
            "Epoch 39/100\n",
            "38/38 [==============================] - 4s 100ms/step - loss: 0.0031\n",
            "Epoch 40/100\n",
            "38/38 [==============================] - 4s 110ms/step - loss: 0.0025\n",
            "Epoch 41/100\n",
            "38/38 [==============================] - 4s 103ms/step - loss: 0.0026\n",
            "Epoch 42/100\n",
            "38/38 [==============================] - 4s 111ms/step - loss: 0.0025\n",
            "Epoch 43/100\n",
            "38/38 [==============================] - 4s 110ms/step - loss: 0.0024\n",
            "Epoch 44/100\n",
            "38/38 [==============================] - 4s 114ms/step - loss: 0.0024\n",
            "Epoch 45/100\n",
            "38/38 [==============================] - 4s 103ms/step - loss: 0.0028\n",
            "Epoch 46/100\n",
            "38/38 [==============================] - 4s 102ms/step - loss: 0.0027\n",
            "Epoch 47/100\n",
            "38/38 [==============================] - 4s 105ms/step - loss: 0.0025\n",
            "Epoch 48/100\n",
            "38/38 [==============================] - 4s 109ms/step - loss: 0.0026\n",
            "Epoch 49/100\n",
            "38/38 [==============================] - 4s 112ms/step - loss: 0.0023\n",
            "Epoch 50/100\n",
            "38/38 [==============================] - 4s 108ms/step - loss: 0.0023\n",
            "Epoch 51/100\n",
            "38/38 [==============================] - 4s 104ms/step - loss: 0.0025\n",
            "Epoch 52/100\n",
            "38/38 [==============================] - 4s 101ms/step - loss: 0.0024\n",
            "Epoch 53/100\n",
            "38/38 [==============================] - 4s 106ms/step - loss: 0.0023\n",
            "Epoch 54/100\n",
            "38/38 [==============================] - 4s 112ms/step - loss: 0.0021\n",
            "Epoch 55/100\n",
            "38/38 [==============================] - 4s 114ms/step - loss: 0.0022\n",
            "Epoch 56/100\n",
            "38/38 [==============================] - 4s 101ms/step - loss: 0.0020\n",
            "Epoch 57/100\n",
            "38/38 [==============================] - 4s 100ms/step - loss: 0.0021\n",
            "Epoch 58/100\n",
            "38/38 [==============================] - 4s 102ms/step - loss: 0.0020\n",
            "Epoch 59/100\n",
            "38/38 [==============================] - 4s 106ms/step - loss: 0.0021\n",
            "Epoch 60/100\n",
            "38/38 [==============================] - 4s 111ms/step - loss: 0.0022\n",
            "Epoch 61/100\n",
            "38/38 [==============================] - 4s 114ms/step - loss: 0.0021\n",
            "Epoch 62/100\n",
            "38/38 [==============================] - 4s 114ms/step - loss: 0.0021\n",
            "Epoch 63/100\n",
            "38/38 [==============================] - 4s 109ms/step - loss: 0.0019\n",
            "Epoch 64/100\n",
            "38/38 [==============================] - 4s 107ms/step - loss: 0.0020\n",
            "Epoch 65/100\n",
            "38/38 [==============================] - 4s 105ms/step - loss: 0.0019\n",
            "Epoch 66/100\n",
            "38/38 [==============================] - 4s 116ms/step - loss: 0.0020\n",
            "Epoch 67/100\n",
            "38/38 [==============================] - 4s 101ms/step - loss: 0.0024\n",
            "Epoch 68/100\n",
            "38/38 [==============================] - 4s 114ms/step - loss: 0.0019\n",
            "Epoch 69/100\n",
            "38/38 [==============================] - 4s 117ms/step - loss: 0.0017\n",
            "Epoch 70/100\n",
            "38/38 [==============================] - 4s 102ms/step - loss: 0.0017\n",
            "Epoch 71/100\n",
            "38/38 [==============================] - 5s 119ms/step - loss: 0.0020\n",
            "Epoch 72/100\n",
            "38/38 [==============================] - 4s 104ms/step - loss: 0.0017\n",
            "Epoch 73/100\n",
            "38/38 [==============================] - 4s 101ms/step - loss: 0.0018\n",
            "Epoch 74/100\n",
            "38/38 [==============================] - 4s 104ms/step - loss: 0.0018\n",
            "Epoch 75/100\n",
            "38/38 [==============================] - 5s 118ms/step - loss: 0.0018\n",
            "Epoch 76/100\n",
            "38/38 [==============================] - 5s 121ms/step - loss: 0.0018\n",
            "Epoch 77/100\n",
            "38/38 [==============================] - 4s 111ms/step - loss: 0.0017\n",
            "Epoch 78/100\n",
            "38/38 [==============================] - 4s 101ms/step - loss: 0.0019\n",
            "Epoch 79/100\n",
            "38/38 [==============================] - 4s 106ms/step - loss: 0.0016\n",
            "Epoch 80/100\n",
            "38/38 [==============================] - 4s 116ms/step - loss: 0.0017\n",
            "Epoch 81/100\n",
            "38/38 [==============================] - 4s 111ms/step - loss: 0.0016\n",
            "Epoch 82/100\n",
            "38/38 [==============================] - 6s 169ms/step - loss: 0.0017\n",
            "Epoch 83/100\n",
            "38/38 [==============================] - 8s 212ms/step - loss: 0.0018\n",
            "Epoch 84/100\n",
            "38/38 [==============================] - 7s 170ms/step - loss: 0.0015\n",
            "Epoch 85/100\n",
            "38/38 [==============================] - 4s 112ms/step - loss: 0.0016\n",
            "Epoch 86/100\n",
            "38/38 [==============================] - 5s 127ms/step - loss: 0.0017\n",
            "Epoch 87/100\n",
            "38/38 [==============================] - 6s 159ms/step - loss: 0.0017\n",
            "Epoch 88/100\n",
            "38/38 [==============================] - 4s 105ms/step - loss: 0.0018\n",
            "Epoch 89/100\n",
            "38/38 [==============================] - 4s 116ms/step - loss: 0.0016\n",
            "Epoch 90/100\n",
            "38/38 [==============================] - 4s 105ms/step - loss: 0.0016\n",
            "Epoch 91/100\n",
            "38/38 [==============================] - 4s 117ms/step - loss: 0.0018\n",
            "Epoch 92/100\n",
            "38/38 [==============================] - 4s 111ms/step - loss: 0.0014\n",
            "Epoch 93/100\n",
            "38/38 [==============================] - 4s 109ms/step - loss: 0.0016\n",
            "Epoch 94/100\n",
            "38/38 [==============================] - 4s 112ms/step - loss: 0.0018\n",
            "Epoch 95/100\n",
            "38/38 [==============================] - 4s 114ms/step - loss: 0.0015\n",
            "Epoch 96/100\n",
            "38/38 [==============================] - 4s 112ms/step - loss: 0.0014\n",
            "Epoch 97/100\n",
            "38/38 [==============================] - 4s 108ms/step - loss: 0.0014\n",
            "Epoch 98/100\n",
            "38/38 [==============================] - 4s 107ms/step - loss: 0.0015\n",
            "Epoch 99/100\n",
            "38/38 [==============================] - 4s 105ms/step - loss: 0.0015\n",
            "Epoch 100/100\n",
            "38/38 [==============================] - 4s 102ms/step - loss: 0.0017\n"
          ]
        },
        {
          "output_type": "execute_result",
          "data": {
            "text/plain": [
              "<keras.callbacks.History at 0x7f206ef70990>"
            ]
          },
          "metadata": {},
          "execution_count": 24
        }
      ]
    },
    {
      "cell_type": "code",
      "source": [
        "X_test2=[]\n",
        "for i in range(timesteps,70):\n",
        "    X_test2.append(inputs[i-timesteps:i,0])\n",
        "X_test2=np.array(X_test2)\n",
        "X_test2=np.reshape(X_test2,(X_test2.shape[0],X_test2.shape[1],1))\n",
        "predicted_stock_price_LSTM=lstm_model.predict(X_test2)\n",
        "predicted_stock_price_LSTM=scaler.inverse_transform(predicted_stock_price_LSTM)"
      ],
      "metadata": {
        "id": "7_mPcHc1wUm0"
      },
      "execution_count": 25,
      "outputs": []
    },
    {
      "cell_type": "code",
      "source": [
        "lstm_model.evaluate(X_test2)"
      ],
      "metadata": {
        "colab": {
          "base_uri": "https://localhost:8080/"
        },
        "id": "yT-NmPuYwwBo",
        "outputId": "72463202-b9f6-4a2d-ed2f-a2f6b09ee433"
      },
      "execution_count": 26,
      "outputs": [
        {
          "output_type": "stream",
          "name": "stdout",
          "text": [
            "1/1 [==============================] - 1s 1s/step - loss: 0.0000e+00\n"
          ]
        },
        {
          "output_type": "execute_result",
          "data": {
            "text/plain": [
              "0.0"
            ]
          },
          "metadata": {},
          "execution_count": 26
        }
      ]
    },
    {
      "cell_type": "markdown",
      "source": [
        "Plotting and comparing the prediction by LSTM and RNN models with the original values."
      ],
      "metadata": {
        "id": "Wr8Nfxicw6iK"
      }
    },
    {
      "cell_type": "code",
      "source": [
        "plt.plot(real_stock_price,color=\"red\",label=\"Real Google Stock Price\")\n",
        "plt.plot(predicted_stock_price_LSTM,color=\"blue\",label=\"Preticted Google Stock Price with LSTM\")\n",
        "plt.plot(predicted_stock_price_RNN,color=\"green\",label=\"Preticted Google Stock Price with RNN\")\n",
        "plt.title(\"Google Stock Price Prediction\")\n",
        "plt.xlabel(\"Time\")\n",
        "plt.ylabel(\"Google Stock Price\")\n",
        "plt.legend()\n",
        "plt.show()"
      ],
      "metadata": {
        "colab": {
          "base_uri": "https://localhost:8080/",
          "height": 295
        },
        "id": "m03YjZ0ww4J8",
        "outputId": "8a02e223-c4d7-4f2e-8b5e-f01cb9b4a64b"
      },
      "execution_count": 27,
      "outputs": [
        {
          "output_type": "display_data",
          "data": {
            "text/plain": [
              "<Figure size 432x288 with 1 Axes>"
            ],
            "image/png": "[encoded data removed]"
          },
          "metadata": {
            "needs_background": "light"
          }
        }
      ]
    },
    {
      "cell_type": "markdown",
      "source": [
        "### Performance:"
      ],
      "metadata": {
        "id": "odiH1fspCI1I"
      }
    },
    {
      "cell_type": "markdown",
      "source": [
        "Based on the above vizualization, we can conclude that the LSTM model is performing better than the RNN model.\n"
      ],
      "metadata": {
        "id": "KLW3TZkwFXLT"
      }
    },
    {
      "cell_type": "code",
      "source": [],
      "metadata": {
        "id": "T6bWitgYFivG"
      },
      "execution_count": null,
      "outputs": []
    }
  ]
}